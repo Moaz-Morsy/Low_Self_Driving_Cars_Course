{
 "cells": [
  {
   "cell_type": "markdown",
   "id": "e810f994",
   "metadata": {},
   "source": [
    "# Hough Circle Lab\n",
    "\n",
    "## Goal\n",
    "\n",
    "The goal of this lab is to detect as much circles as possible. The more you detect, the higher your grade.\n",
    "\n",
    "So, using the following image tune the parameters to get as much circles as you can for the following pictures:\n",
    "\n",
    "\n",
    "![Hough Circles](Files/circles.png)\n",
    "\n",
    "\n",
    "![Hough Circles](Files/Capture.PNG)\n",
    "\n",
    "\n",
    "## Grade\n",
    "\n",
    "Each circle you get right it's +1 and each false circle you get -1.\n",
    "\n"
   ]
  },
  {
   "cell_type": "code",
   "execution_count": null,
   "id": "aa3362ad",
   "metadata": {},
   "outputs": [],
   "source": []
  }
 ],
 "metadata": {
  "kernelspec": {
   "display_name": "Python 3",
   "language": "python",
   "name": "python3"
  },
  "language_info": {
   "codemirror_mode": {
    "name": "ipython",
    "version": 3
   },
   "file_extension": ".py",
   "mimetype": "text/x-python",
   "name": "python",
   "nbconvert_exporter": "python",
   "pygments_lexer": "ipython3",
   "version": "3.7.10"
  }
 },
 "nbformat": 4,
 "nbformat_minor": 5
}
