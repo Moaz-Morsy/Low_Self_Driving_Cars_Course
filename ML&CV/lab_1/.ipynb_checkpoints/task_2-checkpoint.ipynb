{
 "cells": [
  {
   "cell_type": "code",
   "execution_count": 1,
   "id": "8339310a",
   "metadata": {},
   "outputs": [],
   "source": [
    "import cv2\n",
    "import numpy as np\n",
    "import glob\n",
    "from matplotlib import pyplot as plt"
   ]
  },
  {
   "cell_type": "code",
   "execution_count": 2,
   "id": "eedd0794",
   "metadata": {},
   "outputs": [],
   "source": [
    "cv2.namedWindow(\"image\")\n",
    "\n",
    "img = np.zeros((255,500,3), np.uint8)\n",
    "count = 1\n",
    "while 1:\n",
    "    r_h = np.random.randint(0,255) \n",
    "    g_h = np.random.randint(0,255)\n",
    "    b_h = np.random.randint(0,255)\n",
    "    r_v = np.random.randint(0,255) \n",
    "    g_v = np.random.randint(0,255)\n",
    "    b_v = np.random.randint(0,255)\n",
    "    row = np.random.randint(0,255)\n",
    "    col = np.random.randint(0,500)\n",
    "    \n",
    "    img = np.zeros((255,500,3), np.uint8)\n",
    "    \n",
    "    img[row,:] = [r_h,g_h,b_h]\n",
    "    img[:,col] = [r_v,g_v,b_v]\n",
    "    \n",
    "    cv2.imshow(\"image\",img)\n",
    "    k = cv2.waitKey(1000)\n",
    "    cv2.imwrite(f\"Ouptut_task_2/out_{count}.jpg\",img)\n",
    "    count += 1\n",
    "    if k == 27: \n",
    "        break\n",
    "    elif count>100:\n",
    "        break\n",
    "        \n",
    "cv2.destroyAllWindows()"
   ]
  },
  {
   "cell_type": "code",
   "execution_count": 4,
   "id": "86ab089a",
   "metadata": {},
   "outputs": [],
   "source": [
    "img_array = []\n",
    "for filename in glob.glob('Ouptut_task_2/*.jpg'):\n",
    "    img = cv2.imread(filename)\n",
    "    height, width, layers = img.shape\n",
    "    size = (width,height)\n",
    "    img_array.append(img)\n",
    " \n",
    " \n",
    "out = cv2.VideoWriter('task_2.avi',cv2.VideoWriter_fourcc(*'DIVX'), 5, size)\n",
    " \n",
    "for i in range(len(img_array)):\n",
    "    out.write(img_array[i])\n",
    "out.release()"
   ]
  },
  {
   "cell_type": "code",
   "execution_count": null,
   "id": "9416ca13",
   "metadata": {},
   "outputs": [],
   "source": []
  },
  {
   "cell_type": "code",
   "execution_count": null,
   "id": "0020ed31",
   "metadata": {},
   "outputs": [],
   "source": []
  }
 ],
 "metadata": {
  "kernelspec": {
   "display_name": "Python 3",
   "language": "python",
   "name": "python3"
  },
  "language_info": {
   "codemirror_mode": {
    "name": "ipython",
    "version": 3
   },
   "file_extension": ".py",
   "mimetype": "text/x-python",
   "name": "python",
   "nbconvert_exporter": "python",
   "pygments_lexer": "ipython3",
   "version": "3.7.10"
  }
 },
 "nbformat": 4,
 "nbformat_minor": 5
}
