{
 "cells": [
  {
   "cell_type": "markdown",
   "id": "5fe43d3c",
   "metadata": {},
   "source": [
    "# 2D Transformations Lab\n",
    "\n",
    "In this lab you have the chance to work on getting eye-bird view using Geometric Transformations.\n",
    "\n",
    "## Input\n",
    "\n",
    "![Image](Files/Affine/perspective02.png)\n",
    "\n",
    "![Image](Files/Affine/perspective01.png)\n",
    "\n",
    "\n",
    "## Output\n",
    "\n",
    "![Image](Files/Affine/out.jpg)\n",
    "\n",
    "![Image](Files/Affine/out0.jpg)\n",
    "\n",
    "## Criteria\n",
    "\n",
    "- Polygon must fill the output vertically.\n",
    "- Light reflected on the groung should be vertical line.\n",
    "- Marks on the right and the left for cars seperations must be parallel.\n",
    "\n",
    "## Grade\n",
    "\n",
    "10 (2 for finishing within time and 8 for correct answer)"
   ]
  },
  {
   "cell_type": "code",
   "execution_count": null,
   "id": "f711f8f3",
   "metadata": {},
   "outputs": [],
   "source": []
  }
 ],
 "metadata": {
  "kernelspec": {
   "display_name": "Python 3",
   "language": "python",
   "name": "python3"
  },
  "language_info": {
   "codemirror_mode": {
    "name": "ipython",
    "version": 3
   },
   "file_extension": ".py",
   "mimetype": "text/x-python",
   "name": "python",
   "nbconvert_exporter": "python",
   "pygments_lexer": "ipython3",
   "version": "3.7.10"
  },
  "metadata": {
   "interpreter": {
    "hash": "f3a9a6cdf05e4d1f523c5fcf918c8fbec23e0ed8a124b564e3874d40bf159712"
   }
  }
 },
 "nbformat": 4,
 "nbformat_minor": 5
}
