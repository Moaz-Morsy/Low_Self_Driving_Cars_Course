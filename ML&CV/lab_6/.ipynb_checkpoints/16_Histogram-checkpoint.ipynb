{
 "cells": [
  {
   "cell_type": "markdown",
   "id": "29a9deb3",
   "metadata": {},
   "source": [
    "# Histogram Equalization\n",
    "\n",
    "In this lab you need to explore `CLAHE` and explain it.\n",
    "\n",
    "\n",
    "## Your task\n",
    "\n",
    "- What it 'CLAHE'?\n",
    "- How it is compared to what we disscused in the lecture?\n",
    "- Apply it to Grayscaled and Colored carkyo image and compare to our results.\n",
    "\n",
    "## Grade\n",
    "\n",
    "10"
   ]
  },
  {
   "cell_type": "code",
   "execution_count": null,
   "id": "ed52080c",
   "metadata": {},
   "outputs": [],
   "source": []
  }
 ],
 "metadata": {
  "kernelspec": {
   "display_name": "Python 3",
   "language": "python",
   "name": "python3"
  },
  "language_info": {
   "codemirror_mode": {
    "name": "ipython",
    "version": 3
   },
   "file_extension": ".py",
   "mimetype": "text/x-python",
   "name": "python",
   "nbconvert_exporter": "python",
   "pygments_lexer": "ipython3",
   "version": "3.7.10"
  }
 },
 "nbformat": 4,
 "nbformat_minor": 5
}
