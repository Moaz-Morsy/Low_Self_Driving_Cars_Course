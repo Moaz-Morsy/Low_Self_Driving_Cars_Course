{
 "cells": [
  {
   "cell_type": "code",
   "execution_count": 1,
   "id": "5c87a0d5",
   "metadata": {},
   "outputs": [],
   "source": [
    "import cv2 as cv\n",
    "import numpy as np\n",
    "import matplotlib.pyplot as plt"
   ]
  },
  {
   "cell_type": "code",
   "execution_count": 4,
   "id": "8eb05f06",
   "metadata": {},
   "outputs": [],
   "source": [
    "ix,iy = -1,-1\n",
    "def draw_circle(event,x,y,flags,param):\n",
    "    global ix,iy\n",
    "    ix,iy = x,y\n",
    "    if event == cv.EVENT_LBUTTONDOWN: # 10*10 green square\n",
    "        cv.rectangle(img, (ix,iy), (ix+10,iy+10), (0,0,255), -1)\n",
    "    if event == cv.EVENT_LBUTTONUP: # 20*10 red rectangle\n",
    "        cv.rectangle(img, (ix,iy), (ix+20,iy+10), (0,255,0), -1)\n",
    "    if event == cv.EVENT_RBUTTONDOWN: # 15 in raduis solid blue circle\n",
    "        cv.circle(img,(ix,iy),15,(255,0, 0),-1)\n",
    "    if event == cv.EVENT_RBUTTONUP: # half-circle arch in yellow\n",
    "        cv.ellipse(img,(ix,iy),(15,15),0,360,180,(0,255,255),1)\n",
    "    if event == cv.EVENT_MBUTTONDOWN: # Write your name as a text in any color\n",
    "        font = cv.FONT_HERSHEY_SIMPLEX\n",
    "        cv.putText(img, 'Eid Mubarak', (ix, iy), font, 0.5, (255, 0, 255), 1, cv.LINE_AA)"
   ]
  },
  {
   "cell_type": "code",
   "execution_count": 5,
   "id": "b0a15974",
   "metadata": {},
   "outputs": [],
   "source": [
    "img = np.zeros((512,512,3), np.uint8)\n",
    "\n",
    "cv.namedWindow('image')\n",
    "cv.setMouseCallback('image', draw_circle)\n",
    "\n",
    "while(1):\n",
    "    cv.imshow('image',img)\n",
    "    if cv.waitKey(20) == ord('q'):\n",
    "        break\n",
    "\n",
    "cv.destroyAllWindows()"
   ]
  },
  {
   "cell_type": "code",
   "execution_count": null,
   "id": "d83ca865",
   "metadata": {},
   "outputs": [],
   "source": []
  },
  {
   "cell_type": "code",
   "execution_count": null,
   "id": "4a7cbebb",
   "metadata": {},
   "outputs": [],
   "source": []
  }
 ],
 "metadata": {
  "kernelspec": {
   "display_name": "Python 3",
   "language": "python",
   "name": "python3"
  },
  "language_info": {
   "codemirror_mode": {
    "name": "ipython",
    "version": 3
   },
   "file_extension": ".py",
   "mimetype": "text/x-python",
   "name": "python",
   "nbconvert_exporter": "python",
   "pygments_lexer": "ipython3",
   "version": "3.7.10"
  }
 },
 "nbformat": 4,
 "nbformat_minor": 5
}
