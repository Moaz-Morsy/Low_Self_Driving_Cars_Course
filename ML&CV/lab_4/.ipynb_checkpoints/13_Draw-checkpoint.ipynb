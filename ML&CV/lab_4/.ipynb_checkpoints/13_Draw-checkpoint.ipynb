{
 "cells": [
  {
   "cell_type": "markdown",
   "id": "6c8d457d",
   "metadata": {},
   "source": [
    "# Draw with you mouse !\n",
    "\n",
    "---\n",
    "\n",
    "## Task\n",
    "\n",
    "We need to get familier with using mouse events in opencv.\n",
    "\n",
    "## Criteria\n",
    "\n",
    "Use 5 diffrent mouse events `with mouse click in the center except for the text` to draw:\n",
    "- 10*10 green square.\n",
    "- 20*10 red rectangle.\n",
    "- 15 in raduis solid blue circle.\n",
    "- half-circle arch in yellow.\n",
    "- Write your name as a text in any color.\n",
    "\n",
    "---\n",
    "\n",
    "## Grade\n",
    "\n",
    "- 10\n",
    "  - 8 for the correct answer.\n",
    "  - 2 for finishing before the end of the lab.\n",
    "\n",
    "---\n"
   ]
  },
  {
   "cell_type": "code",
   "execution_count": null,
   "id": "41726dee",
   "metadata": {},
   "outputs": [],
   "source": []
  }
 ],
 "metadata": {
  "kernelspec": {
   "display_name": "Python 3",
   "language": "python",
   "name": "python3"
  },
  "language_info": {
   "codemirror_mode": {
    "name": "ipython",
    "version": 3
   },
   "file_extension": ".py",
   "mimetype": "text/x-python",
   "name": "python",
   "nbconvert_exporter": "python",
   "pygments_lexer": "ipython3",
   "version": "3.7.10"
  }
 },
 "nbformat": 4,
 "nbformat_minor": 5
}
