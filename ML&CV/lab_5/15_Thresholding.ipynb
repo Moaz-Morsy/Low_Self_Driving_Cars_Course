{
 "cells": [
  {
   "cell_type": "markdown",
   "id": "71e50813",
   "metadata": {},
   "source": [
    "# Thresholding lab\n",
    "\n",
    "## Goal\n",
    "\n",
    "In this lab we need to explore and threshold using colorspaces we learned in the first section of this module.\n",
    "\n",
    "Use whatever colorspace or channel you need to achieve a result as clear as you can throughout the whole video.\n",
    "\n",
    "You will find the video in 'Files/Threshold/Lanes.mp4'\n",
    "\n",
    "## Criteria\n",
    "\n",
    "- Output must be a video of binary frames.\n",
    "- Lanes must be as clear as you can.\n",
    "\n",
    "## Example\n",
    "\n",
    "### Input\n",
    "\n",
    "![Image](Files/Threshold/labInput.png)\n",
    "\n",
    "\n",
    "### Output\n",
    "\n",
    "![Image](Files/Threshold/labout.png)\n",
    "\n",
    "## Grade\n",
    "\n",
    "10"
   ]
  },
  {
   "cell_type": "code",
   "execution_count": null,
   "id": "37102c03",
   "metadata": {},
   "outputs": [],
   "source": []
  }
 ],
 "metadata": {
  "kernelspec": {
   "display_name": "Python 3",
   "language": "python",
   "name": "python3"
  },
  "language_info": {
   "codemirror_mode": {
    "name": "ipython",
    "version": 3
   },
   "file_extension": ".py",
   "mimetype": "text/x-python",
   "name": "python",
   "nbconvert_exporter": "python",
   "pygments_lexer": "ipython3",
   "version": "3.7.10"
  }
 },
 "nbformat": 4,
 "nbformat_minor": 5
}
