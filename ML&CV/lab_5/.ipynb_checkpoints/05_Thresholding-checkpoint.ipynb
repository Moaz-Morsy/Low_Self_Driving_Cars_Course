{
 "cells": [
  {
   "cell_type": "code",
   "execution_count": 1,
   "id": "german-quest",
   "metadata": {},
   "outputs": [],
   "source": [
    "import cv2\n",
    "import numpy as np\n",
    "from PIL import Image\n",
    "from matplotlib import pyplot as plt\n",
    "\n",
    "def SHOW(img):\n",
    "    display(Image.fromarray(img[:,:,::-1]));"
   ]
  },
  {
   "cell_type": "markdown",
   "id": "inappropriate-mississippi",
   "metadata": {},
   "source": [
    "Generate Grayscale Gradient"
   ]
  },
  {
   "cell_type": "code",
   "execution_count": 2,
   "id": "regional-original",
   "metadata": {},
   "outputs": [],
   "source": [
    "def build_sample_image():\n",
    "    tones = np.arange(start=0, stop=256, step=5)\n",
    "    result = np.zeros((100, 15, 1), dtype=\"uint8\")\n",
    "    for tone in tones:\n",
    "        img = np.ones((100, 15, 1), dtype=\"uint8\") * tone\n",
    "        result = np.concatenate((result, img), axis=1)\n",
    "\n",
    "    return result\n",
    "\n",
    "def nothing(x):\n",
    "    pass"
   ]
  },
  {
   "cell_type": "code",
   "execution_count": 3,
   "id": "e8c644d6",
   "metadata": {},
   "outputs": [
    {
     "data": {
      "image/png": "[encoded data removed]",
      "text/plain": [
       "<Figure size 432x288 with 1 Axes>"
      ]
     },
     "metadata": {
      "needs_background": "light"
     },
     "output_type": "display_data"
    }
   ],
   "source": [
    "img = build_sample_image()\n",
    "plt.imshow(img, cmap='gray');"
   ]
  },
  {
   "cell_type": "markdown",
   "id": "cognitive-motorcycle",
   "metadata": {},
   "source": [
    "# Simple Thresholding\n",
    "- Binary<br>\n",
    "![alt text](Files/Threshold/01Binary.JPG)\n",
    "\n",
    "- Binary Inv<br>\n",
    "![alt text](Files/Threshold/02BinaryInv.JPG)\n",
    "\n",
    "- Trunc<br>\n",
    "![alt text](Files/Threshold/03Trunc.JPG)\n",
    "\n",
    "- To Zero<br>\n",
    "![alt text](Files/Threshold/04ToZero.JPG)\n",
    "\n",
    "- To Zero Inv<br>\n",
    "![alt text](Files/Threshold/05ToZeroInv.JPG)"
   ]
  },
  {
   "cell_type": "code",
   "execution_count": 4,
   "id": "hourly-invention",
   "metadata": {},
   "outputs": [],
   "source": [
    "methods = ['THRESH_BINARY',\n",
    "           'THRESH_BINARY_INV',\n",
    "           'THRESH_TRUNC',\n",
    "           'THRESH_TOZERO',\n",
    "           'THRESH_TOZERO_INV',\n",
    "           'THRESH_TRIANGLE']"
   ]
  },
  {
   "cell_type": "code",
   "execution_count": 5,
   "id": "authorized-dimension",
   "metadata": {},
   "outputs": [],
   "source": [
    "img = cv2.imread('/Files/rubik.jpg', 0)"
   ]
  },
  {
   "cell_type": "code",
   "execution_count": 8,
   "id": "balanced-astronomy",
   "metadata": {},
   "outputs": [
    {
     "ename": "IndexError",
     "evalue": "list index out of range",
     "output_type": "error",
     "traceback": [
      "\u001b[0;31m---------------------------------------------------------------------------\u001b[0m",
      "\u001b[0;31mIndexError\u001b[0m                                Traceback (most recent call last)",
      "\u001b[0;32m<ipython-input-8-2ae1b4ca1e3b>\u001b[0m in \u001b[0;36m<module>\u001b[0;34m\u001b[0m\n\u001b[1;32m     28\u001b[0m         \u001b[0mout\u001b[0m \u001b[0;34m=\u001b[0m \u001b[0mimg\u001b[0m\u001b[0;34m.\u001b[0m\u001b[0mcopy\u001b[0m\u001b[0;34m(\u001b[0m\u001b[0;34m)\u001b[0m\u001b[0;34m\u001b[0m\u001b[0;34m\u001b[0m\u001b[0m\n\u001b[1;32m     29\u001b[0m     cv2.putText(out,\n\u001b[0;32m---> 30\u001b[0;31m                 \u001b[0mmethods\u001b[0m\u001b[0;34m[\u001b[0m\u001b[0mmethod\u001b[0m\u001b[0;34m]\u001b[0m\u001b[0;34m,\u001b[0m\u001b[0;34m\u001b[0m\u001b[0;34m\u001b[0m\u001b[0m\n\u001b[0m\u001b[1;32m     31\u001b[0m                 \u001b[0;34m(\u001b[0m\u001b[0;36m2\u001b[0m\u001b[0;34m,\u001b[0m\u001b[0;36m23\u001b[0m\u001b[0;34m)\u001b[0m\u001b[0;34m,\u001b[0m\u001b[0;34m\u001b[0m\u001b[0;34m\u001b[0m\u001b[0m\n\u001b[1;32m     32\u001b[0m                 \u001b[0mfont\u001b[0m\u001b[0;34m,\u001b[0m\u001b[0;34m\u001b[0m\u001b[0;34m\u001b[0m\u001b[0m\n",
      "\u001b[0;31mIndexError\u001b[0m: list index out of range"
     ]
    }
   ],
   "source": [
    "img = build_sample_image()\n",
    "cv2.namedWindow('Image')\n",
    "\n",
    "cv2.createTrackbar('low', 'Image', 0, 255, nothing)\n",
    "cv2.createTrackbar('high', 'Image', 0, 255, nothing)\n",
    "cv2.createTrackbar('method', 'Image', 0, 5, nothing)\n",
    "\n",
    "font = cv2.FONT_HERSHEY_SIMPLEX\n",
    "\n",
    "while (1):\n",
    "    low = cv2.getTrackbarPos('low','Image')\n",
    "    high = cv2.getTrackbarPos('high','Image')\n",
    "    method = cv2.getTrackbarPos('method','Image')\n",
    "    \n",
    "    if (method == 0):\n",
    "        ret1, out = cv2.threshold(img, low, high, cv2.THRESH_BINARY)\n",
    "    elif (method == 1):\n",
    "        ret1, out = cv2.threshold(img, low, high, cv2.THRESH_BINARY_INV)\n",
    "    elif (method == 2):\n",
    "        ret1, out = cv2.threshold(img, low, high, cv2.THRESH_TRUNC)\n",
    "    elif (method == 3):\n",
    "        ret1, out = cv2.threshold(img, low, high, cv2.THRESH_TOZERO)\n",
    "    elif (method == 4):\n",
    "        ret1, out = cv2.threshold(img, low, high, cv2.THRESH_TOZERO_INV)\n",
    "    elif (method == 5):\n",
    "        ret1, out = cv2.threshold(img, low, high, cv2.THRESH_TRIANGLE)\n",
    "    else:\n",
    "        out = img.copy()\n",
    "    cv2.putText(out,\n",
    "                methods[method],\n",
    "                (2,23),\n",
    "                font,\n",
    "                1,\n",
    "                (125, 0, 0),\n",
    "                2,\n",
    "                cv2.LINE_AA)\n",
    "    \n",
    "    cv2.imshow('Image', out)\n",
    "    k = cv2.waitKey(1) & 0xFF\n",
    "    if k == 27:\n",
    "        break\n",
    "    \n",
    "cv2.destroyAllWindows()"
   ]
  },
  {
   "cell_type": "markdown",
   "id": "great-excess",
   "metadata": {},
   "source": [
    "# Adaptive Thresholding\n",
    "- MEAN\n",
    "- GAUSSIAN"
   ]
  },
  {
   "cell_type": "code",
   "execution_count": 7,
   "id": "explicit-organic",
   "metadata": {},
   "outputs": [
    {
     "ename": "TypeError",
     "evalue": "'NoneType' object is not subscriptable",
     "output_type": "error",
     "traceback": [
      "\u001b[0;31m---------------------------------------------------------------------------\u001b[0m",
      "\u001b[0;31mTypeError\u001b[0m                                 Traceback (most recent call last)",
      "\u001b[0;32m<ipython-input-7-1d14cb53bd86>\u001b[0m in \u001b[0;36m<module>\u001b[0;34m\u001b[0m\n\u001b[1;32m      4\u001b[0m \u001b[0;34m\u001b[0m\u001b[0m\n\u001b[1;32m      5\u001b[0m \u001b[0mimg\u001b[0m \u001b[0;34m=\u001b[0m \u001b[0mcv2\u001b[0m\u001b[0;34m.\u001b[0m\u001b[0mimread\u001b[0m\u001b[0;34m(\u001b[0m\u001b[0;34m'../03ComputerVision/Files/circles.png'\u001b[0m\u001b[0;34m)\u001b[0m\u001b[0;34m\u001b[0m\u001b[0;34m\u001b[0m\u001b[0m\n\u001b[0;32m----> 6\u001b[0;31m \u001b[0mSHOW\u001b[0m\u001b[0;34m(\u001b[0m\u001b[0mimg\u001b[0m\u001b[0;34m)\u001b[0m\u001b[0;34m\u001b[0m\u001b[0;34m\u001b[0m\u001b[0m\n\u001b[0m\u001b[1;32m      7\u001b[0m \u001b[0mimg\u001b[0m \u001b[0;34m=\u001b[0m \u001b[0mcv2\u001b[0m\u001b[0;34m.\u001b[0m\u001b[0mcvtColor\u001b[0m\u001b[0;34m(\u001b[0m\u001b[0mimg\u001b[0m\u001b[0;34m,\u001b[0m \u001b[0mcv2\u001b[0m\u001b[0;34m.\u001b[0m\u001b[0mCOLOR_BGR2GRAY\u001b[0m\u001b[0;34m)\u001b[0m\u001b[0;34m\u001b[0m\u001b[0;34m\u001b[0m\u001b[0m\n\u001b[1;32m      8\u001b[0m \u001b[0;34m\u001b[0m\u001b[0m\n",
      "\u001b[0;32m<ipython-input-1-93d8b42be9ba>\u001b[0m in \u001b[0;36mSHOW\u001b[0;34m(img)\u001b[0m\n\u001b[1;32m      5\u001b[0m \u001b[0;34m\u001b[0m\u001b[0m\n\u001b[1;32m      6\u001b[0m \u001b[0;32mdef\u001b[0m \u001b[0mSHOW\u001b[0m\u001b[0;34m(\u001b[0m\u001b[0mimg\u001b[0m\u001b[0;34m)\u001b[0m\u001b[0;34m:\u001b[0m\u001b[0;34m\u001b[0m\u001b[0;34m\u001b[0m\u001b[0m\n\u001b[0;32m----> 7\u001b[0;31m     \u001b[0mdisplay\u001b[0m\u001b[0;34m(\u001b[0m\u001b[0mImage\u001b[0m\u001b[0;34m.\u001b[0m\u001b[0mfromarray\u001b[0m\u001b[0;34m(\u001b[0m\u001b[0mimg\u001b[0m\u001b[0;34m[\u001b[0m\u001b[0;34m:\u001b[0m\u001b[0;34m,\u001b[0m\u001b[0;34m:\u001b[0m\u001b[0;34m,\u001b[0m\u001b[0;34m:\u001b[0m\u001b[0;34m:\u001b[0m\u001b[0;34m-\u001b[0m\u001b[0;36m1\u001b[0m\u001b[0;34m]\u001b[0m\u001b[0;34m)\u001b[0m\u001b[0;34m)\u001b[0m\u001b[0;34m;\u001b[0m\u001b[0;34m\u001b[0m\u001b[0;34m\u001b[0m\u001b[0m\n\u001b[0m",
      "\u001b[0;31mTypeError\u001b[0m: 'NoneType' object is not subscriptable"
     ]
    }
   ],
   "source": [
    "methods = ['ADAPTIVE_THRESH_MEAN',\n",
    "           'ADAPTIVE_THRESH_GAUSSIAN_C'\n",
    "          ]\n",
    "\n",
    "img = cv2.imread('../03ComputerVision/Files/circles.png')\n",
    "SHOW(img)\n",
    "img = cv2.cvtColor(img, cv2.COLOR_BGR2GRAY)\n",
    "\n",
    "def nothing(x):\n",
    "    pass\n",
    "\n",
    "cv2.namedWindow('Image')\n",
    "\n",
    "cv2.createTrackbar('x', 'Image', 1, 255, nothing)\n",
    "cv2.createTrackbar('y', 'Image', 1, 255, nothing)\n",
    "cv2.createTrackbar('method', 'Image', 0, 1, nothing)\n",
    "\n",
    "font = cv2.FONT_HERSHEY_SIMPLEX\n",
    "\n",
    "while (1):\n",
    "    x = cv2.getTrackbarPos('x','Image')\n",
    "    \n",
    "    if (x%2 == 0):\n",
    "        x += 1\n",
    "    if (x < 3):\n",
    "        x = 3\n",
    "\n",
    "    y = cv2.getTrackbarPos('y','Image')\n",
    "    method = cv2.getTrackbarPos('method','Image')\n",
    "    \n",
    "    if (method == 0):\n",
    "        out = cv2.adaptiveThreshold(img,\n",
    "                                    255,\n",
    "                                    cv2.ADAPTIVE_THRESH_MEAN_C,\n",
    "                                    cv2.THRESH_BINARY,\n",
    "                                    x,\n",
    "                                    y)\n",
    "    elif (method == 1):\n",
    "        out = cv2.adaptiveThreshold(img,\n",
    "                                    255,\n",
    "                                    cv2.ADAPTIVE_THRESH_GAUSSIAN_C,\n",
    "                                    cv2.THRESH_BINARY,\n",
    "                                    x,\n",
    "                                    y)\n",
    "    else:\n",
    "        out = img.copy()\n",
    "    \n",
    "    cv2.putText(out,\n",
    "                methods[method],\n",
    "                (2,23),\n",
    "                font,\n",
    "                1,\n",
    "                (125, 0, 0),\n",
    "                2,\n",
    "                cv2.LINE_AA)\n",
    "    \n",
    "    cv2.imshow('Image', out)\n",
    "    k = cv2.waitKey(1) & 0xFF\n",
    "    if k == 27:\n",
    "        break\n",
    "    \n",
    "cv2.destroyAllWindows()"
   ]
  },
  {
   "cell_type": "code",
   "execution_count": null,
   "id": "wanted-classics",
   "metadata": {},
   "outputs": [],
   "source": []
  }
 ],
 "metadata": {
  "kernelspec": {
   "display_name": "Python 3",
   "language": "python",
   "name": "python3"
  },
  "language_info": {
   "codemirror_mode": {
    "name": "ipython",
    "version": 3
   },
   "file_extension": ".py",
   "mimetype": "text/x-python",
   "name": "python",
   "nbconvert_exporter": "python",
   "pygments_lexer": "ipython3",
   "version": "3.7.10"
  }
 },
 "nbformat": 4,
 "nbformat_minor": 5
}
