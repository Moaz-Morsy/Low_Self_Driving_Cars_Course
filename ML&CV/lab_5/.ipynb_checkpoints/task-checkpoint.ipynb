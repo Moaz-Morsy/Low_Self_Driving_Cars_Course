{
 "cells": [
  {
   "cell_type": "code",
   "execution_count": 1,
   "id": "d434f68c",
   "metadata": {},
   "outputs": [],
   "source": [
    "import cv2\n",
    "import numpy as np\n",
    "from matplotlib import pyplot as plt"
   ]
  },
  {
   "cell_type": "code",
   "execution_count": 2,
   "id": "aa818eeb",
   "metadata": {},
   "outputs": [],
   "source": [
    "def nothing(x):\n",
    "    pass"
   ]
  },
  {
   "cell_type": "code",
   "execution_count": 4,
   "id": "6fd8c316",
   "metadata": {},
   "outputs": [],
   "source": [
    "cap = cv2.VideoCapture(\"Files/Threshold/Lanes.mp4\")\n",
    "cv2.namedWindow('Out', cv2.WINDOW_NORMAL)\n",
    "cv2.createTrackbar('x', 'Out', 21, 255, nothing)\n",
    "cv2.createTrackbar('y', 'Out', 9, 255, nothing)\n",
    "while (cap.isOpened()):\n",
    "    ret, frame = cap.read()\n",
    "    x = cv2.getTrackbarPos('x','Out')\n",
    "    if (x%2 == 0):\n",
    "        x += 1\n",
    "    if (x < 3):\n",
    "        x = 3\n",
    "    y = cv2.getTrackbarPos('y','Out')\n",
    "    if (ret):\n",
    "        gray = cv2.cvtColor(frame, cv2.COLOR_BGR2GRAY)\n",
    "        #ret1, out = cv2.threshold(gray, 210, 255, cv2.THRESH_BINARY)\n",
    "        out = cv2.adaptiveThreshold(gray,255,cv2.ADAPTIVE_THRESH_GAUSSIAN_C,cv2.THRESH_BINARY_INV,x,y)\n",
    "        cv2.imshow(\"Out\",out)\n",
    "        k = cv2.waitKey(1)\n",
    "        if k == ord('q'):\n",
    "            break\n",
    "        elif k == ord('s'):\n",
    "            print(out.shape)\n",
    "    else:\n",
    "        break        \n",
    "cv2.destroyAllWindows()"
   ]
  },
  {
   "cell_type": "code",
   "execution_count": 3,
   "id": "71c655c1",
   "metadata": {},
   "outputs": [],
   "source": [
    "# vid = cv2.VideoWriter('out.avi',cv2.VideoWriter_fourcc(*'DIVX'), 25, (1280, 720))"
   ]
  },
  {
   "cell_type": "code",
   "execution_count": 4,
   "id": "9ad50664",
   "metadata": {},
   "outputs": [],
   "source": [
    "# cap = cv2.VideoCapture(\"Files/Threshold/Lanes.mp4\")\n",
    "# count = 1\n",
    "# while (cap.isOpened()):\n",
    "#     ret, frame = cap.read()\n",
    "#     if (ret):\n",
    "#         gray = cv2.cvtColor(frame, cv2.COLOR_BGR2GRAY)\n",
    "# #         ret1, out = cv2.threshold(gray, 175, 255, cv2.THRESH_BINARY)\n",
    "#         out = cv2.adaptiveThreshold(gray,255,cv2.ADAPTIVE_THRESH_GAUSSIAN_C,cv2.THRESH_BINARY_INV,21,11)\n",
    "#         vid.write(out)\n",
    "#         print(count)\n",
    "#         count += 1\n",
    "# #         cv2.imshow(\"Frame\",out)\n",
    "#         k = cv2.waitKey(1)\n",
    "#         if k == ord('q'):\n",
    "#             break\n",
    "#     else:\n",
    "#         break\n",
    "\n",
    "# vid.release()\n",
    "# cv2.destroyAllWindows()"
   ]
  },
  {
   "cell_type": "code",
   "execution_count": 13,
   "id": "f924afd0",
   "metadata": {},
   "outputs": [],
   "source": [
    "cap = cv2.VideoCapture(\"Files/Threshold/Lanes.mp4\")\n",
    "cv2.namedWindow('Out', cv2.WINDOW_NORMAL)\n",
    "cv2.createTrackbar('x', 'Out', 21, 255, nothing)\n",
    "cv2.createTrackbar('y', 'Out', 9, 255, nothing)\n",
    "while (cap.isOpened()):\n",
    "    ret, frame = cap.read()\n",
    "    x = cv2.getTrackbarPos('x','Out')\n",
    "    if (x%2 == 0):\n",
    "        x += 1\n",
    "    if (x < 3):\n",
    "        x = 3\n",
    "    y = cv2.getTrackbarPos('y','Out')\n",
    "    if (ret):\n",
    "#         gray = cv2.cvtColor(frame, cv2.COLOR_BGR2GRAY)\n",
    "        hls = cv2.cvtColor(frame, cv2.COLOR_BGR2HLS)\n",
    "#         ret1, out = cv2.threshold(hls[:,:,1], 190, 255, cv2.THRESH_BINARY)\n",
    "        out = cv2.adaptiveThreshold(hls[:,:,1],255,cv2.ADAPTIVE_THRESH_GAUSSIAN_C,cv2.THRESH_BINARY_INV,x,y)\n",
    "        cv2.imshow(\"Out\",out)\n",
    "        k = cv2.waitKey(1)\n",
    "        if k == ord('q'):\n",
    "            break\n",
    "        elif k == ord('s'):\n",
    "            print(out.shape)\n",
    "    else:\n",
    "        break        \n",
    "cv2.destroyAllWindows()"
   ]
  },
  {
   "cell_type": "code",
   "execution_count": null,
   "id": "b00510e1",
   "metadata": {},
   "outputs": [],
   "source": []
  },
  {
   "cell_type": "code",
   "execution_count": null,
   "id": "57481574",
   "metadata": {},
   "outputs": [],
   "source": []
  },
  {
   "cell_type": "code",
   "execution_count": null,
   "id": "0d315af0",
   "metadata": {},
   "outputs": [],
   "source": []
  }
 ],
 "metadata": {
  "kernelspec": {
   "display_name": "Python 3",
   "language": "python",
   "name": "python3"
  },
  "language_info": {
   "codemirror_mode": {
    "name": "ipython",
    "version": 3
   },
   "file_extension": ".py",
   "mimetype": "text/x-python",
   "name": "python",
   "nbconvert_exporter": "python",
   "pygments_lexer": "ipython3",
   "version": "3.7.10"
  }
 },
 "nbformat": 4,
 "nbformat_minor": 5
}
