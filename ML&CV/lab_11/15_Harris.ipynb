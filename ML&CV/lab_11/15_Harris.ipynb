{
 "cells": [
  {
   "cell_type": "markdown",
   "metadata": {},
   "source": [
    "# Corner Dtection\n",
    "\n",
    "- Understand and Explore `Harris` corner detection.\n",
    "- Using OpenCV, apply it to all images in Chess folder.\n",
    "\n",
    "## Criteria\n",
    "\n",
    "- Detect as much chessboard corners as you can in all images.\n",
    "\n",
    "## Grade\n",
    "- 12"
   ]
  },
  {
   "cell_type": "code",
   "execution_count": null,
   "metadata": {},
   "outputs": [],
   "source": []
  }
 ],
 "metadata": {
  "kernelspec": {
   "display_name": "Python 3",
   "language": "python",
   "name": "python3"
  },
  "language_info": {
   "codemirror_mode": {
    "name": "ipython",
    "version": 3
   },
   "file_extension": ".py",
   "mimetype": "text/x-python",
   "name": "python",
   "nbconvert_exporter": "python",
   "pygments_lexer": "ipython3",
   "version": "3.7.10"
  }
 },
 "nbformat": 4,
 "nbformat_minor": 2
}
