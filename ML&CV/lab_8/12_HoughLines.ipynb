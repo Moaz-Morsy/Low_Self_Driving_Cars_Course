{
 "cells": [
  {
   "cell_type": "markdown",
   "metadata": {},
   "source": [
    "# Hough Lines Lab\n",
    "\n",
    "## Required\n",
    "\n",
    "Create you own playaround to explore houghlines\n",
    "\n",
    "## Criteria\n",
    "\n",
    "- Use any edge detection filter you need but `canny` is recommended.\n",
    "- You must use `houghLinesP` funstion.\n",
    "- Create a trackbar for each variable in the function.\n",
    "- Find the suitable parametrs to apply on:\n",
    "  - Building.jpg\n",
    "  - Road.jpg\n",
    "- Save you results as images with lines drawn.\n",
    "\n",
    "## Grade\n",
    "\n",
    "10"
   ]
  },
  {
   "cell_type": "code",
   "execution_count": null,
   "metadata": {},
   "outputs": [],
   "source": []
  }
 ],
 "metadata": {
  "kernelspec": {
   "display_name": "Python 3",
   "language": "python",
   "name": "python3"
  },
  "language_info": {
   "codemirror_mode": {
    "name": "ipython",
    "version": 3
   },
   "file_extension": ".py",
   "mimetype": "text/x-python",
   "name": "python",
   "nbconvert_exporter": "python",
   "pygments_lexer": "ipython3",
   "version": "3.7.10"
  }
 },
 "nbformat": 4,
 "nbformat_minor": 2
}
