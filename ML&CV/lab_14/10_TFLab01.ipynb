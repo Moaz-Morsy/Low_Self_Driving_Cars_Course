{
 "cells": [
  {
   "cell_type": "markdown",
   "metadata": {},
   "source": [
    "# Tensorflow Lab\n",
    "\n",
    "z = 5x - 3y + 7\n",
    "\n",
    "## Task:\n",
    "\n",
    "Given the previous equation:\n",
    "- Generate 10 random values for `x` and `y` as input with max. value = 100.\n",
    "- Generate z for the above values.\n",
    "- Create a model with 2 inputs to accept x and y and predicts y.\n",
    "- You must show the results:\n",
    "    - Model summary.\n",
    "    - Loss AND ACC. VS epochs.\n",
    "    - Weights.\n",
    "    - Predict output for 3 diffrent inputs.\n",
    "\n",
    "## Cariteria:\n",
    "\n",
    "- Model must be 1 neuron only.\n",
    "- Acc. must be 90% at least."
   ]
  },
  {
   "cell_type": "code",
   "execution_count": null,
   "metadata": {},
   "outputs": [],
   "source": []
  }
 ],
 "metadata": {
  "interpreter": {
   "hash": "f144dd7168d84694c921e58974f80857c7d46ee501cb9b7cdf7de997230023ca"
  },
  "kernelspec": {
   "display_name": "Python 3",
   "language": "python",
   "name": "python3"
  },
  "language_info": {
   "codemirror_mode": {
    "name": "ipython",
    "version": 3
   },
   "file_extension": ".py",
   "mimetype": "text/x-python",
   "name": "python",
   "nbconvert_exporter": "python",
   "pygments_lexer": "ipython3",
   "version": "3.8.5"
  }
 },
 "nbformat": 4,
 "nbformat_minor": 2
}
