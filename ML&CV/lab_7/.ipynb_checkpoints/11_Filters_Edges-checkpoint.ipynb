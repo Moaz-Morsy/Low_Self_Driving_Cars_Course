{
 "cells": [
  {
   "cell_type": "markdown",
   "metadata": {},
   "source": [
    "# Task 1\n",
    "\n",
    "## Required \n",
    "\n",
    "Implement and apply the following filters on carkyo image:\n",
    "- Scharr.\n",
    "- Prewitt.\n",
    "- Roberts.\n",
    "\n",
    "## Criteria\n",
    "\n",
    "- Filter must be in both X-Dir and Y-Dir.\n",
    "- For each filter, 3 outputs are required (x, y, mag).\n",
    "- All filters must be implemented using cv2.Filter2D.\n",
    "\n",
    "## Grade\n",
    "10"
   ]
  }
 ],
 "metadata": {
  "kernelspec": {
   "display_name": "Python 3",
   "language": "python",
   "name": "python3"
  },
  "language_info": {
   "codemirror_mode": {
    "name": "ipython",
    "version": 3
   },
   "file_extension": ".py",
   "mimetype": "text/x-python",
   "name": "python",
   "nbconvert_exporter": "python",
   "pygments_lexer": "ipython3",
   "version": "3.7.10"
  }
 },
 "nbformat": 4,
 "nbformat_minor": 2
}
