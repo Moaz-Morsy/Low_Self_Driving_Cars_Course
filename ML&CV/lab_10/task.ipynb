{
 "cells": [
  {
   "cell_type": "code",
   "execution_count": 2,
   "id": "e776b4df",
   "metadata": {},
   "outputs": [],
   "source": [
    "import cv2\n",
    "import numpy as np\n",
    "import matplotlib.pyplot as plt"
   ]
  },
  {
   "cell_type": "code",
   "execution_count": 3,
   "id": "4dcf76b8",
   "metadata": {},
   "outputs": [],
   "source": [
    "img = cv2.imread('Files/lab.png')\n",
    "gray = cv2.cvtColor(img, cv2.COLOR_BGR2GRAY)"
   ]
  },
  {
   "cell_type": "code",
   "execution_count": 4,
   "id": "4cd9e5f6",
   "metadata": {},
   "outputs": [],
   "source": [
    "_, th = cv2.threshold(gray, 10, 255, cv2.THRESH_BINARY)\n",
    "                        \n",
    "contours = cv2.findContours(th, cv2.RETR_TREE, cv2.CHAIN_APPROX_SIMPLE)"
   ]
  },
  {
   "cell_type": "code",
   "execution_count": 5,
   "id": "df40a2df",
   "metadata": {},
   "outputs": [],
   "source": [
    "# contours"
   ]
  },
  {
   "cell_type": "code",
   "execution_count": 6,
   "id": "1e295641",
   "metadata": {},
   "outputs": [],
   "source": [
    "def nothing(x):\n",
    "    pass"
   ]
  },
  {
   "cell_type": "code",
   "execution_count": 10,
   "id": "0cdf7b97",
   "metadata": {},
   "outputs": [],
   "source": [
    "reter = [\n",
    "    cv2.RETR_CCOMP,\n",
    "    cv2.RETR_EXTERNAL,\n",
    "    cv2.RETR_LIST,\n",
    "    cv2.RETR_TREE\n",
    "]\n",
    "\n",
    "approx = [\n",
    "    cv2.CHAIN_APPROX_NONE,\n",
    "\tcv2.CHAIN_APPROX_SIMPLE,\n",
    "    cv2.CHAIN_APPROX_TC89_L1,\n",
    "    cv2.CHAIN_APPROX_TC89_KCOS\n",
    "]\n",
    "\n",
    "cv2.namedWindow('Output')\n",
    "\n",
    "cv2.createTrackbar('hir', 'Output', 0, len(reter)-1, nothing)\n",
    "cv2.createTrackbar('appr', 'Output', 0, len(approx)-1, nothing)\n",
    "cv2.createTrackbar('min_perimeter', 'Output', 387, 1500, nothing)\n",
    "cv2.createTrackbar('max_perimeter', 'Output', 792, 1500, nothing)\n",
    "cond = True\n",
    "\n",
    "while 1:\n",
    "    \n",
    "    out = img.copy()\n",
    "    edges = cv2.Canny(gray, 50, 150)\n",
    "    \n",
    "    cv2.imshow('Output', out)\n",
    "    k = cv2.waitKey(0)\n",
    "    \n",
    "    contours, _ = cv2.findContours(edges, reter[hir], approx[appr])\n",
    "    cv2.drawContours(out, contours, -1, (0,0,255), 2)\n",
    "    \n",
    "    cv2.imshow('Output', out)\n",
    "    k = cv2.waitKey(0)\n",
    "    \n",
    "    hir = cv2.getTrackbarPos('hir', 'Output')\n",
    "    appr = cv2.getTrackbarPos('appr', 'Output')\n",
    "    min_perimeter = cv2.getTrackbarPos('min_perimeter', 'Output')\n",
    "    max_perimeter = cv2.getTrackbarPos('max_perimeter', 'Output')\n",
    "    \n",
    "    if cond:\n",
    "        #cv2.imshow('Output', out)\n",
    "        #k = cv2.waitKey(0)\n",
    "        if k == ord('s'):\n",
    "            for contour in contours:\n",
    "                if cv2.arcLength(contour, True) > max_perimeter:\n",
    "                    cv2.drawContours(out, [contour], 0, (0, 0, 255), -1)\n",
    "                    #cv2.fillPoly(out, [contour], (0, 0, 255))\n",
    "                elif cv2.arcLength(contour, True) > min_perimeter and cv2.arcLength(contour, True) < max_perimeter:\n",
    "                    cv2.drawContours(out, [contour], 0, (255, 0, 0), -1)\n",
    "                    #cv2.fillPoly(out, [contour], (255, 255, 255))\n",
    "                elif cv2.arcLength(contour, True) < min_perimeter:\n",
    "                    cv2.drawContours(out, [contour], 0, (255, 255, 255), -1)\n",
    "                    #cv2.fillPoly(out, [contour], (255, 255, 255))\n",
    "\n",
    "                cv2.imshow('Output', out)\n",
    "\n",
    "                k = cv2.waitKey(0)\n",
    "                if k == ord('q'):\n",
    "                    cond = False\n",
    "                    break\n",
    "                    \n",
    "    k = cv2.waitKey(0)\n",
    "    if k == 27:\n",
    "        break\n",
    "\n",
    "cv2.destroyAllWindows()"
   ]
  },
  {
   "cell_type": "code",
   "execution_count": null,
   "id": "25bb7910",
   "metadata": {},
   "outputs": [],
   "source": []
  },
  {
   "cell_type": "code",
   "execution_count": null,
   "id": "a2e6dbef",
   "metadata": {},
   "outputs": [],
   "source": []
  },
  {
   "cell_type": "code",
   "execution_count": null,
   "id": "05d7c062",
   "metadata": {},
   "outputs": [],
   "source": []
  },
  {
   "cell_type": "code",
   "execution_count": null,
   "id": "dc10d6d6",
   "metadata": {},
   "outputs": [],
   "source": []
  },
  {
   "cell_type": "code",
   "execution_count": null,
   "id": "29bd3930",
   "metadata": {},
   "outputs": [],
   "source": []
  },
  {
   "cell_type": "code",
   "execution_count": null,
   "id": "bc6917ee",
   "metadata": {},
   "outputs": [],
   "source": []
  },
  {
   "cell_type": "code",
   "execution_count": null,
   "id": "4318037a",
   "metadata": {},
   "outputs": [],
   "source": []
  },
  {
   "cell_type": "code",
   "execution_count": null,
   "id": "ddd17cec",
   "metadata": {},
   "outputs": [],
   "source": []
  },
  {
   "cell_type": "code",
   "execution_count": null,
   "id": "ae60529f",
   "metadata": {},
   "outputs": [],
   "source": []
  },
  {
   "cell_type": "code",
   "execution_count": null,
   "id": "713005f6",
   "metadata": {},
   "outputs": [],
   "source": []
  },
  {
   "cell_type": "code",
   "execution_count": null,
   "id": "eebf3301",
   "metadata": {},
   "outputs": [],
   "source": []
  },
  {
   "cell_type": "code",
   "execution_count": null,
   "id": "e3b2586f",
   "metadata": {},
   "outputs": [],
   "source": []
  },
  {
   "cell_type": "code",
   "execution_count": null,
   "id": "effaadbf",
   "metadata": {},
   "outputs": [],
   "source": []
  },
  {
   "cell_type": "code",
   "execution_count": null,
   "id": "d44c8368",
   "metadata": {},
   "outputs": [],
   "source": []
  },
  {
   "cell_type": "code",
   "execution_count": null,
   "id": "e357f820",
   "metadata": {},
   "outputs": [],
   "source": []
  },
  {
   "cell_type": "code",
   "execution_count": null,
   "id": "1ec71010",
   "metadata": {},
   "outputs": [],
   "source": []
  },
  {
   "cell_type": "code",
   "execution_count": null,
   "id": "01e04d36",
   "metadata": {},
   "outputs": [],
   "source": []
  },
  {
   "cell_type": "code",
   "execution_count": null,
   "id": "8914cf40",
   "metadata": {},
   "outputs": [],
   "source": []
  }
 ],
 "metadata": {
  "kernelspec": {
   "display_name": "Python 3",
   "language": "python",
   "name": "python3"
  },
  "language_info": {
   "codemirror_mode": {
    "name": "ipython",
    "version": 3
   },
   "file_extension": ".py",
   "mimetype": "text/x-python",
   "name": "python",
   "nbconvert_exporter": "python",
   "pygments_lexer": "ipython3",
   "version": "3.7.10"
  }
 },
 "nbformat": 4,
 "nbformat_minor": 5
}
