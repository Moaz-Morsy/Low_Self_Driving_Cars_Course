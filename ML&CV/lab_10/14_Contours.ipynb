{
 "cells": [
  {
   "cell_type": "markdown",
   "metadata": {},
   "source": [
    "# Contours Lab\n",
    "\n",
    "In this lab we need to explore contours shapes.\n",
    "\n",
    "![](Files/lab.png)\n",
    "\n",
    "## Required\n",
    "\n",
    "- Erase the 3 small shapes.\n",
    "- Fill the rectangle with blue color.\n",
    "- Fill the oval with red color.\n",
    "\n",
    "## Grade\n",
    "\n",
    "10"
   ]
  },
  {
   "cell_type": "markdown",
   "metadata": {},
   "source": []
  },
  {
   "cell_type": "code",
   "execution_count": null,
   "metadata": {},
   "outputs": [],
   "source": []
  }
 ],
 "metadata": {
  "kernelspec": {
   "display_name": "Python 3",
   "language": "python",
   "name": "python3"
  },
  "language_info": {
   "codemirror_mode": {
    "name": "ipython",
    "version": 3
   },
   "file_extension": ".py",
   "mimetype": "text/x-python",
   "name": "python",
   "nbconvert_exporter": "python",
   "pygments_lexer": "ipython3",
   "version": "3.7.10"
  }
 },
 "nbformat": 4,
 "nbformat_minor": 2
}
