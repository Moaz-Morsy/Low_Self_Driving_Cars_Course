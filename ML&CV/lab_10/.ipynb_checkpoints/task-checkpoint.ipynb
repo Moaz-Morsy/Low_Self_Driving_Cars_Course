{
 "cells": [
  {
   "cell_type": "code",
   "execution_count": 2,
   "id": "6248c9ca",
   "metadata": {},
   "outputs": [],
   "source": [
    "import cv2\n",
    "import numpy as np\n",
    "import matplotlib.pyplot as plt"
   ]
  },
  {
   "cell_type": "code",
   "execution_count": 3,
   "id": "3d4cc9e5",
   "metadata": {},
   "outputs": [],
   "source": [
    "img = cv2.imread('Files/lab.png')\n",
    "gray = cv2.cvtColor(img, cv2.COLOR_BGR2GRAY)"
   ]
  },
  {
   "cell_type": "code",
   "execution_count": 4,
   "id": "67b686c7",
   "metadata": {},
   "outputs": [],
   "source": [
    "_, th = cv2.threshold(gray, 10, 255, cv2.THRESH_BINARY)\n",
    "                        \n",
    "contours = cv2.findContours(th, cv2.RETR_TREE, cv2.CHAIN_APPROX_SIMPLE)"
   ]
  },
  {
   "cell_type": "code",
   "execution_count": 5,
   "id": "5ea4dccf",
   "metadata": {},
   "outputs": [],
   "source": [
    "# contours"
   ]
  },
  {
   "cell_type": "code",
   "execution_count": 6,
   "id": "4125728c",
   "metadata": {},
   "outputs": [],
   "source": [
    "def nothing(x):\n",
    "    pass"
   ]
  },
  {
   "cell_type": "code",
   "execution_count": 7,
   "id": "00e13dec",
   "metadata": {},
   "outputs": [
    {
     "ename": "NameError",
     "evalue": "name 'out' is not defined",
     "output_type": "error",
     "traceback": [
      "\u001b[0;31m---------------------------------------------------------------------------\u001b[0m",
      "\u001b[0;31mNameError\u001b[0m                                 Traceback (most recent call last)",
      "\u001b[0;32m<ipython-input-7-65f87ec0effc>\u001b[0m in \u001b[0;36m<module>\u001b[0;34m\u001b[0m\n\u001b[1;32m     23\u001b[0m \u001b[0;32mwhile\u001b[0m \u001b[0;36m1\u001b[0m\u001b[0;34m:\u001b[0m\u001b[0;34m\u001b[0m\u001b[0;34m\u001b[0m\u001b[0m\n\u001b[1;32m     24\u001b[0m \u001b[0;34m\u001b[0m\u001b[0m\n\u001b[0;32m---> 25\u001b[0;31m     \u001b[0mcv2\u001b[0m\u001b[0;34m.\u001b[0m\u001b[0mimshow\u001b[0m\u001b[0;34m(\u001b[0m\u001b[0;34m'Output'\u001b[0m\u001b[0;34m,\u001b[0m \u001b[0mout\u001b[0m\u001b[0;34m)\u001b[0m\u001b[0;34m\u001b[0m\u001b[0;34m\u001b[0m\u001b[0m\n\u001b[0m\u001b[1;32m     26\u001b[0m     \u001b[0mk\u001b[0m \u001b[0;34m=\u001b[0m \u001b[0mcv2\u001b[0m\u001b[0;34m.\u001b[0m\u001b[0mwaitKey\u001b[0m\u001b[0;34m(\u001b[0m\u001b[0;36m0\u001b[0m\u001b[0;34m)\u001b[0m\u001b[0;34m\u001b[0m\u001b[0;34m\u001b[0m\u001b[0m\n\u001b[1;32m     27\u001b[0m \u001b[0;34m\u001b[0m\u001b[0m\n",
      "\u001b[0;31mNameError\u001b[0m: name 'out' is not defined"
     ]
    }
   ],
   "source": [
    "reter = [\n",
    "    cv2.RETR_CCOMP,\n",
    "    cv2.RETR_EXTERNAL,\n",
    "    cv2.RETR_LIST,\n",
    "    cv2.RETR_TREE\n",
    "]\n",
    "\n",
    "approx = [\n",
    "    cv2.CHAIN_APPROX_NONE,\n",
    "\tcv2.CHAIN_APPROX_SIMPLE,\n",
    "    cv2.CHAIN_APPROX_TC89_L1,\n",
    "    cv2.CHAIN_APPROX_TC89_KCOS\n",
    "]\n",
    "\n",
    "cv2.namedWindow('Output')\n",
    "\n",
    "cv2.createTrackbar('hir', 'Output', 0, len(reter)-1, nothing)\n",
    "cv2.createTrackbar('appr', 'Output', 0, len(approx)-1, nothing)\n",
    "cv2.createTrackbar('min_perimeter', 'Output', 0, 1500, nothing)\n",
    "cv2.createTrackbar('max_perimeter', 'Output', 0, 1500, nothing)\n",
    "cond = True\n",
    "\n",
    "while 1:\n",
    "    \n",
    "    out = img.copy()\n",
    "    edges = cv2.Canny(gray, 50, 150)\n",
    "    \n",
    "    cv2.imshow('Output', out)\n",
    "    k = cv2.waitKey(0)\n",
    "    \n",
    "    hir = cv2.getTrackbarPos('hir', 'Output')\n",
    "    appr = cv2.getTrackbarPos('appr', 'Output')\n",
    "    min_perimeter = cv2.getTrackbarPos('min_perimeter', 'Output')\n",
    "    max_perimeter = cv2.getTrackbarPos('max_perimeter', 'Output')\n",
    "    \n",
    "    contours, _ = cv2.findContours(edges, reter[hir], approx[appr])\n",
    "    cv2.drawContours(out, contours, -1, (0,0,255), 2)\n",
    "    \n",
    "    cv2.imshow('Output', out)\n",
    "    #k = cv2.waitKey(0)\n",
    "    \n",
    "    if cond:\n",
    "        #cv2.imshow('Output', out)\n",
    "        k = cv2.waitKey(0)\n",
    "        if k == ord('s'):\n",
    "            for contour in contours:\n",
    "                if cv2.arcLength(contour, True) > max_perimeter:\n",
    "                    cv2.drawContours(out, [contour], 0, (0, 0, 255), -1)\n",
    "                    #cv2.fillPoly(out, [contour], (0, 0, 255))\n",
    "                elif cv2.arcLength(contour, True) > min_perimeter and cv2.arcLength(contour, True) < max_perimeter:\n",
    "                    cv2.drawContours(out, [contour], 0, (255, 0, 0), -1)\n",
    "                    #cv2.fillPoly(out, [contour], (255, 255, 255))\n",
    "                elif cv2.arcLength(contour, True) < min_perimeter:\n",
    "                    cv2.drawContours(out, [contour], 0, (255, 255, 255), -1)\n",
    "                    #cv2.fillPoly(out, [contour], (255, 255, 255))\n",
    "\n",
    "                cv2.imshow('Output', out)\n",
    "\n",
    "                k = cv2.waitKey(0)\n",
    "                if k == ord('q'):\n",
    "                    cond = False\n",
    "                    break\n",
    "                    \n",
    "    k = cv2.waitKey(1)\n",
    "    if k == 27:\n",
    "        break\n",
    "\n",
    "cv2.destroyAllWindows()"
   ]
  },
  {
   "cell_type": "code",
   "execution_count": null,
   "id": "17548478",
   "metadata": {},
   "outputs": [],
   "source": []
  },
  {
   "cell_type": "code",
   "execution_count": null,
   "id": "4d7b8ae7",
   "metadata": {},
   "outputs": [],
   "source": []
  },
  {
   "cell_type": "code",
   "execution_count": null,
   "id": "1c89a064",
   "metadata": {},
   "outputs": [],
   "source": []
  },
  {
   "cell_type": "code",
   "execution_count": null,
   "id": "84b2c389",
   "metadata": {},
   "outputs": [],
   "source": []
  },
  {
   "cell_type": "code",
   "execution_count": null,
   "id": "f11330aa",
   "metadata": {},
   "outputs": [],
   "source": []
  },
  {
   "cell_type": "code",
   "execution_count": null,
   "id": "f73a6bc5",
   "metadata": {},
   "outputs": [],
   "source": []
  },
  {
   "cell_type": "code",
   "execution_count": null,
   "id": "7950571d",
   "metadata": {},
   "outputs": [],
   "source": []
  },
  {
   "cell_type": "code",
   "execution_count": null,
   "id": "d9803b85",
   "metadata": {},
   "outputs": [],
   "source": []
  },
  {
   "cell_type": "code",
   "execution_count": null,
   "id": "8f164a01",
   "metadata": {},
   "outputs": [],
   "source": []
  },
  {
   "cell_type": "code",
   "execution_count": null,
   "id": "39442c2c",
   "metadata": {},
   "outputs": [],
   "source": []
  },
  {
   "cell_type": "code",
   "execution_count": null,
   "id": "ff7baa7d",
   "metadata": {},
   "outputs": [],
   "source": []
  },
  {
   "cell_type": "code",
   "execution_count": null,
   "id": "60faf593",
   "metadata": {},
   "outputs": [],
   "source": []
  },
  {
   "cell_type": "code",
   "execution_count": null,
   "id": "73817f90",
   "metadata": {},
   "outputs": [],
   "source": []
  },
  {
   "cell_type": "code",
   "execution_count": null,
   "id": "a6c1581e",
   "metadata": {},
   "outputs": [],
   "source": []
  },
  {
   "cell_type": "code",
   "execution_count": null,
   "id": "97a14228",
   "metadata": {},
   "outputs": [],
   "source": []
  },
  {
   "cell_type": "code",
   "execution_count": null,
   "id": "92dabf67",
   "metadata": {},
   "outputs": [],
   "source": []
  },
  {
   "cell_type": "code",
   "execution_count": null,
   "id": "8ad202a0",
   "metadata": {},
   "outputs": [],
   "source": []
  },
  {
   "cell_type": "code",
   "execution_count": null,
   "id": "ddb07337",
   "metadata": {},
   "outputs": [],
   "source": []
  }
 ],
 "metadata": {
  "kernelspec": {
   "display_name": "Python 3",
   "language": "python",
   "name": "python3"
  },
  "language_info": {
   "codemirror_mode": {
    "name": "ipython",
    "version": 3
   },
   "file_extension": ".py",
   "mimetype": "text/x-python",
   "name": "python",
   "nbconvert_exporter": "python",
   "pygments_lexer": "ipython3",
   "version": "3.7.10"
  }
 },
 "nbformat": 4,
 "nbformat_minor": 5
}
