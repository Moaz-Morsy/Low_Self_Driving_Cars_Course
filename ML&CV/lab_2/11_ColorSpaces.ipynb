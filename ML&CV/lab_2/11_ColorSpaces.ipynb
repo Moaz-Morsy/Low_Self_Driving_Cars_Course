{
 "cells": [
  {
   "cell_type": "markdown",
   "id": "faaac7d7",
   "metadata": {},
   "source": [
    "# Color spaces lab\n",
    "\n",
    "We need to get familier with colorspaces, channel slicing, and single channels changes.\n",
    "\n",
    "---\n",
    "\n",
    "## Task 1\n",
    "\n",
    "In the carkyo image use the HSV colorspace to:\n",
    "- Add 10 to all S channel values.\n",
    "- Subtract 5 from H channel.\n",
    "- Myltiply V channel by 1.25.\n",
    "- Save image again in BGR.\n",
    "- Describe the results in your words.\n",
    "  - What is the effect of each change?\n",
    "  - What problem did you face and how you fixed it?\n",
    "\n",
    "## Task 2\n",
    "\n",
    "- Create YCrCb image.\n",
    "- Multiply Y channel by 1.25 in YCrCb colorspace.\n",
    "- Describe the result.\n",
    "\n",
    "---\n",
    "\n",
    "## Grade\n",
    "\n",
    "- 15\n",
    "  - 10 for HSV task.\n",
    "  - 3 for YCrCb task.\n",
    "  - 2 for finishing within the lab time.\n",
    "\n",
    "---\n",
    "\n",
    "## Output should be like this:\n",
    "\n",
    "### HSV\n",
    "![Image](Files/output/hsv.png)\n",
    "\n",
    "### YCrCb\n",
    "![Image](Files/output/yCrCb.png)"
   ]
  },
  {
   "cell_type": "code",
   "execution_count": null,
   "id": "ba368ba0",
   "metadata": {},
   "outputs": [],
   "source": []
  }
 ],
 "metadata": {
  "kernelspec": {
   "display_name": "Python 3",
   "language": "python",
   "name": "python3"
  },
  "language_info": {
   "codemirror_mode": {
    "name": "ipython",
    "version": 3
   },
   "file_extension": ".py",
   "mimetype": "text/x-python",
   "name": "python",
   "nbconvert_exporter": "python",
   "pygments_lexer": "ipython3",
   "version": "3.7.10"
  }
 },
 "nbformat": 4,
 "nbformat_minor": 5
}
