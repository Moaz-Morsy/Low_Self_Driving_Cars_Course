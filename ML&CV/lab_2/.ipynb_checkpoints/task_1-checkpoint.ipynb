{
 "cells": [
  {
   "cell_type": "code",
   "execution_count": null,
   "id": "732733eb",
   "metadata": {},
   "outputs": [],
   "source": [
    "import cv2\n",
    "import numpy as np\n",
    "\n",
    "import matplotlib.pyplot as plt\n",
    "import matplotlib.colors"
   ]
  },
  {
   "cell_type": "code",
   "execution_count": null,
   "id": "797b65f0",
   "metadata": {},
   "outputs": [],
   "source": [
    "img = cv2.imread('Files/001.jpg')\n",
    "# img = cv2.cvtColor(img, cv2.COLOR_BGR2RGB)"
   ]
  },
  {
   "cell_type": "code",
   "execution_count": null,
   "id": "40c3c543",
   "metadata": {},
   "outputs": [],
   "source": [
    "plt.imshow(img);"
   ]
  },
  {
   "cell_type": "code",
   "execution_count": null,
   "id": "79106c72",
   "metadata": {},
   "outputs": [],
   "source": [
    "hsv = cv2.cvtColor(img, cv2.COLOR_BGR2HSV)"
   ]
  },
  {
   "cell_type": "code",
   "execution_count": null,
   "id": "a819c3aa",
   "metadata": {},
   "outputs": [],
   "source": [
    "plt.imshow(hsv);"
   ]
  },
  {
   "cell_type": "code",
   "execution_count": null,
   "id": "462d68b0",
   "metadata": {},
   "outputs": [],
   "source": [
    "print(hsv[:,:,0])\n",
    "print(hsv[:,:,1])\n",
    "print(hsv[:,:,2])"
   ]
  },
  {
   "cell_type": "code",
   "execution_count": null,
   "id": "24a5d182",
   "metadata": {},
   "outputs": [],
   "source": [
    "# hsv[:,:,0] = hsv[:,:,0]-5   #H-channel\n",
    "# hsv[:,:,1] = hsv[:,:,1]+10 #S-channel\n",
    "# hsv[:,:,2] = hsv[:,:,2]*1.25 #V-channel"
   ]
  },
  {
   "cell_type": "code",
   "execution_count": null,
   "id": "492c6dc8",
   "metadata": {},
   "outputs": [],
   "source": [
    "hsv[:,:,0] = cv2.add(hsv[:,:,0],-5) # H-channel\n",
    "hsv[:,:,1] = cv2.add(hsv[:,:,1],10) # S-channel\n",
    "hsv[:,:,2] = cv2.multiply(hsv[:,:,2],1.25) # # V-channel"
   ]
  },
  {
   "cell_type": "code",
   "execution_count": null,
   "id": "3941aa23",
   "metadata": {},
   "outputs": [],
   "source": [
    "print(hsv[:,:,0])\n",
    "print(hsv[:,:,1])\n",
    "print(hsv[:,:,2])"
   ]
  },
  {
   "cell_type": "code",
   "execution_count": null,
   "id": "6bc01b13",
   "metadata": {},
   "outputs": [],
   "source": [
    "bgr = cv2.cvtColor(hsv, cv2.COLOR_HSV2BGR)"
   ]
  },
  {
   "cell_type": "code",
   "execution_count": null,
   "id": "74028887",
   "metadata": {},
   "outputs": [],
   "source": [
    "plt.imshow(bgr[:,:,::-1]);"
   ]
  },
  {
   "cell_type": "code",
   "execution_count": null,
   "id": "506aa840",
   "metadata": {},
   "outputs": [],
   "source": [
    "plt.imshow(img[:,:,::-1]);"
   ]
  },
  {
   "cell_type": "markdown",
   "id": "1999f821",
   "metadata": {},
   "source": [
    "#### What is the effect of each change?\n",
    "- Change Hue will lead to increase red color in image (darker than original)\n",
    "- Also, Change Saturation will lead to increase red color in image (darker than original)\n",
    "- Change Value will lead to dark spots in image (problem)\n",
    "\n",
    "#### What problem did you face and how you fixed it?\n",
    "- Problem: Color Overflow will lead to dark spots in image\n",
    "- Solution: use cv2.multiply and cv2.add will perform a color saturation and dark spots will be adjusted"
   ]
  },
  {
   "cell_type": "code",
   "execution_count": null,
   "id": "0234d916",
   "metadata": {},
   "outputs": [],
   "source": [
    "cv2.imwrite(f\"Files/bgr_task_1.jpg\",bgr)"
   ]
  },
  {
   "cell_type": "code",
   "execution_count": null,
   "id": "a130900c",
   "metadata": {},
   "outputs": [],
   "source": []
  },
  {
   "cell_type": "code",
   "execution_count": null,
   "id": "a6b0c028",
   "metadata": {},
   "outputs": [],
   "source": []
  }
 ],
 "metadata": {
  "kernelspec": {
   "display_name": "Python 3",
   "language": "python",
   "name": "python3"
  },
  "language_info": {
   "codemirror_mode": {
    "name": "ipython",
    "version": 3
   },
   "file_extension": ".py",
   "mimetype": "text/x-python",
   "name": "python",
   "nbconvert_exporter": "python",
   "pygments_lexer": "ipython3",
   "version": "3.7.10"
  }
 },
 "nbformat": 4,
 "nbformat_minor": 5
}
