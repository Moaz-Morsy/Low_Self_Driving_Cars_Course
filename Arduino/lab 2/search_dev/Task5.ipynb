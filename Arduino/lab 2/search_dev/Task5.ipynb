{
 "cells": [
  {
   "cell_type": "code",
   "execution_count": 18,
   "id": "ae4d0bdc",
   "metadata": {},
   "outputs": [
    {
     "name": "stdout",
     "output_type": "stream",
     "text": [
      "E: ID_MODEL_FROM_DATABASE=Uno R3 (CDC ACM)\n",
      "\n",
      "E: ID_MODEL_FROM_DATABASE=Uno R3 (CDC ACM)\n",
      "\n",
      "P: /devices/pci0000:00/0000:00:14.0/usb1/1-1/1-1:1.0/tty/ttyACM1\n",
      "\n",
      "N: ttyACM1\n",
      "\n",
      "E: DEVPATH=/devices/pci0000:00/0000:00:14.0/usb1/1-1/1-1:1.0/tty/ttyACM1\n",
      "\n",
      "E: DEVNAME=/dev/ttyACM1\n",
      "\n",
      "E: ID_MODEL_FROM_DATABASE=Uno R3 (CDC ACM)\n",
      "\n",
      "E: ID_MODEL_FROM_DATABASE=Uno R3 (CDC ACM)\n",
      "\n",
      "E: ID_MODEL_FROM_DATABASE=Uno R3 (CDC ACM)\n",
      "\n",
      "E: ID_MODEL_FROM_DATABASE=Uno R3 (CDC ACM)\n",
      "\n",
      "P: /devices/pci0000:00/0000:00:14.0/usb1/1-3/1-3:1.0/tty/ttyACM0\n",
      "\n",
      "N: ttyACM0\n",
      "\n",
      "E: DEVPATH=/devices/pci0000:00/0000:00:14.0/usb1/1-3/1-3:1.0/tty/ttyACM0\n",
      "\n",
      "E: DEVNAME=/dev/ttyACM0\n",
      "\n",
      "E: ID_MODEL_FROM_DATABASE=Uno R3 (CDC ACM)\n",
      "\n",
      "E: ID_MODEL_FROM_DATABASE=Uno R3 (CDC ACM)\n",
      "\n"
     ]
    }
   ],
   "source": [
    "with open(\"FileWith2ArduinoConnected.txt\",\"r\") as file:\n",
    "    for line in file:\n",
    "        if line.split() == []:\n",
    "            continue\n",
    "        elif \"(CDC ACM)\" in line:\n",
    "            print(line)\n",
    "        elif \"ttyACM\" in line:\n",
    "            print(line)"
   ]
  },
  {
   "cell_type": "code",
   "execution_count": 19,
   "id": "83025415",
   "metadata": {},
   "outputs": [
    {
     "name": "stdout",
     "output_type": "stream",
     "text": [
      "usb1 1-1 ttyACM0\n",
      "Mega 2560 R3 (CDC ACM)\n",
      "\n"
     ]
    }
   ],
   "source": [
    "with open(\"filewithdev.txt\",\"r\") as file:\n",
    "    cond = False\n",
    "    for line in file:\n",
    "        if line.split() == []:\n",
    "            continue\n",
    "        if (\"ttyACM\" in line) or (cond):\n",
    "            if cond:\n",
    "                if \"(CDC ACM)\" in line:\n",
    "                    dev_type = line\n",
    "                    print(dev_type[26:])\n",
    "                    cond = False\n",
    "            else:\n",
    "                dev_check = line.split()[1].split('/')\n",
    "                print(dev_check[4],dev_check[5],dev_check[-1])\n",
    "                cond = True"
   ]
  },
  {
   "cell_type": "code",
   "execution_count": 20,
   "id": "acc80ff0",
   "metadata": {},
   "outputs": [],
   "source": [
    "with open(\"filewithoutdev.txt\",\"r\") as file:\n",
    "    cond = False\n",
    "    for line in file:\n",
    "        if line.split() == []:\n",
    "            continue\n",
    "        if (\"ttyACM\" in line) or (cond):\n",
    "            if cond:\n",
    "                if \"(CDC ACM)\" in line:\n",
    "                    dev_type = line\n",
    "                    print(dev_type[26:])\n",
    "                    #print(line)\n",
    "                    cond = False\n",
    "            else:\n",
    "                dev_check = line.split()[1].split('/')\n",
    "                print(dev_check[4],dev_check[5],dev_check[-1])\n",
    "                #print(line)\n",
    "                cond = True"
   ]
  },
  {
   "cell_type": "code",
   "execution_count": 21,
   "id": "28d46d97",
   "metadata": {},
   "outputs": [
    {
     "name": "stdout",
     "output_type": "stream",
     "text": [
      "usb1 1-1 ttyACM1\n",
      "Uno R3 (CDC ACM)\n",
      "\n",
      "usb1 1-3 ttyACM0\n",
      "Uno R3 (CDC ACM)\n",
      "\n"
     ]
    }
   ],
   "source": [
    "with open(\"FileWith2ArduinoConnected.txt\",\"r\") as file:\n",
    "    cond = False\n",
    "    for line in file:\n",
    "        if line.split() == []:\n",
    "            continue\n",
    "        if (\"ttyACM\" in line) or (cond):\n",
    "            if cond:\n",
    "                if \"(CDC ACM)\" in line:\n",
    "                    dev_type = line\n",
    "                    print(dev_type[26:])\n",
    "                    #print(line)\n",
    "                    cond = False\n",
    "            else:\n",
    "                dev_check = line.split()[1].split('/')\n",
    "                print(dev_check[4],dev_check[5],dev_check[-1])\n",
    "                #print(line)\n",
    "                cond = True"
   ]
  },
  {
   "cell_type": "code",
   "execution_count": 2,
   "id": "8e416953",
   "metadata": {},
   "outputs": [
    {
     "name": "stdout",
     "output_type": "stream",
     "text": [
      "/home/moaz/Desktop/lec/Arduino/search_dev/FileWith2ArduinoConnected.txt\n"
     ]
    }
   ],
   "source": [
    "file_location = input()"
   ]
  },
  {
   "cell_type": "code",
   "execution_count": 3,
   "id": "2abf22fc",
   "metadata": {},
   "outputs": [
    {
     "name": "stdout",
     "output_type": "stream",
     "text": [
      "usb1 1-1 ttyACM1\n",
      "Uno R3 (CDC ACM)\n",
      "\n",
      "usb1 1-3 ttyACM0\n",
      "Uno R3 (CDC ACM)\n",
      "\n"
     ]
    }
   ],
   "source": [
    "with open(file_location,\"r\") as file:\n",
    "    cond = False\n",
    "    for line in file:\n",
    "        if line.split() == []:\n",
    "            continue\n",
    "        if (\"ttyACM\" in line) or (cond):\n",
    "            if cond:\n",
    "                if \"(CDC ACM)\" in line:\n",
    "                    dev_type = line\n",
    "                    print(dev_type[26:])\n",
    "                    #print(line)\n",
    "                    cond = False\n",
    "            else:\n",
    "                dev_check = line.split()[1].split('/')\n",
    "                print(dev_check[4],dev_check[5],dev_check[-1])\n",
    "                #print(line)\n",
    "                cond = True"
   ]
  },
  {
   "cell_type": "code",
   "execution_count": null,
   "id": "0a76b89b",
   "metadata": {},
   "outputs": [],
   "source": []
  },
  {
   "cell_type": "code",
   "execution_count": null,
   "id": "65139e98",
   "metadata": {},
   "outputs": [],
   "source": []
  },
  {
   "cell_type": "code",
   "execution_count": null,
   "id": "7d734ab6",
   "metadata": {},
   "outputs": [],
   "source": []
  },
  {
   "cell_type": "code",
   "execution_count": null,
   "id": "135bfd98",
   "metadata": {},
   "outputs": [],
   "source": []
  },
  {
   "cell_type": "code",
   "execution_count": null,
   "id": "278955a7",
   "metadata": {},
   "outputs": [],
   "source": []
  },
  {
   "cell_type": "code",
   "execution_count": null,
   "id": "b341a954",
   "metadata": {},
   "outputs": [],
   "source": []
  },
  {
   "cell_type": "code",
   "execution_count": null,
   "id": "7751b1f8",
   "metadata": {},
   "outputs": [],
   "source": []
  },
  {
   "cell_type": "code",
   "execution_count": null,
   "id": "e835059b",
   "metadata": {},
   "outputs": [],
   "source": []
  }
 ],
 "metadata": {
  "kernelspec": {
   "display_name": "Python 3",
   "language": "python",
   "name": "python3"
  },
  "language_info": {
   "codemirror_mode": {
    "name": "ipython",
    "version": 3
   },
   "file_extension": ".py",
   "mimetype": "text/x-python",
   "name": "python",
   "nbconvert_exporter": "python",
   "pygments_lexer": "ipython3",
   "version": "3.7.10"
  }
 },
 "nbformat": 4,
 "nbformat_minor": 5
}
