{
 "cells": [
  {
   "cell_type": "markdown",
   "id": "b56a0ca7",
   "metadata": {},
   "source": [
    "### 1) Write a python code that ask the user to enter his birth year and then print his age in years."
   ]
  },
  {
   "cell_type": "code",
   "execution_count": 1,
   "id": "d8b52e42",
   "metadata": {},
   "outputs": [],
   "source": [
    "from datetime import date"
   ]
  },
  {
   "cell_type": "code",
   "execution_count": 2,
   "id": "20fc2a06",
   "metadata": {
    "scrolled": true
   },
   "outputs": [
    {
     "data": {
      "text/plain": [
       "2021"
      ]
     },
     "execution_count": 2,
     "metadata": {},
     "output_type": "execute_result"
    }
   ],
   "source": [
    "date.today().year"
   ]
  },
  {
   "cell_type": "code",
   "execution_count": 3,
   "id": "f661bc47",
   "metadata": {},
   "outputs": [
    {
     "name": "stdout",
     "output_type": "stream",
     "text": [
      "1997\n",
      "you are 24 years old\n"
     ]
    }
   ],
   "source": [
    "birth_year = int(input())\n",
    "age = date.today().year - birth_year\n",
    "print(f\"you are {age} years old\")"
   ]
  },
  {
   "cell_type": "markdown",
   "id": "e40308a4",
   "metadata": {},
   "source": [
    "### 2) Write a python code to find Sum and Average of N Natural Numbers"
   ]
  },
  {
   "cell_type": "code",
   "execution_count": 4,
   "id": "796923b7",
   "metadata": {},
   "outputs": [
    {
     "name": "stdout",
     "output_type": "stream",
     "text": [
      "50\n",
      "the sum of natural numbers from 1 to 50 is 1275\n",
      "the average of natural numbers from 1 to 50 is 25.5\n"
     ]
    }
   ],
   "source": [
    "num = int(input())\n",
    "Sum = sum(range(num+1))\n",
    "avg = Sum/num\n",
    "print(f\"the sum of natural numbers from 1 to {num} is {Sum}\")\n",
    "print(f\"the average of natural numbers from 1 to {num} is {avg}\")"
   ]
  },
  {
   "cell_type": "markdown",
   "id": "0d328f25",
   "metadata": {},
   "source": [
    "### 3) Pyramid Pattern with Stars"
   ]
  },
  {
   "cell_type": "code",
   "execution_count": 24,
   "id": "099e0095",
   "metadata": {},
   "outputs": [
    {
     "name": "stdout",
     "output_type": "stream",
     "text": [
      "10\n",
      "          *\n",
      "         ***\n",
      "        *****\n",
      "       *******\n",
      "      *********\n",
      "     ***********\n",
      "    *************\n",
      "   ***************\n",
      "  *****************\n",
      " *******************\n"
     ]
    }
   ],
   "source": [
    "num = int(input())\n",
    "i = 0\n",
    "while i<num:\n",
    "    print((num-i)*\" \"+(2*i+1)*\"*\")\n",
    "    i += 1"
   ]
  },
  {
   "cell_type": "markdown",
   "id": "86f6d7a0",
   "metadata": {},
   "source": [
    "### 4) Python Program to Check Even or Odd"
   ]
  },
  {
   "cell_type": "code",
   "execution_count": 6,
   "id": "74472516",
   "metadata": {},
   "outputs": [
    {
     "name": "stdout",
     "output_type": "stream",
     "text": [
      "3\n",
      "3 is an odd number\n"
     ]
    }
   ],
   "source": [
    "num = int(input())\n",
    "if num%2 == 0:\n",
    "    print(f\"{num} is an even number\")\n",
    "else:\n",
    "    print(f\"{num} is an odd number\")"
   ]
  },
  {
   "cell_type": "markdown",
   "id": "f9268433",
   "metadata": {},
   "source": [
    "### 5) Remove Vowels from String"
   ]
  },
  {
   "cell_type": "code",
   "execution_count": 7,
   "id": "d92be350",
   "metadata": {},
   "outputs": [
    {
     "name": "stdout",
     "output_type": "stream",
     "text": [
      "MoAz\n",
      "Mz\n"
     ]
    }
   ],
   "source": [
    "string = input()\n",
    "s = ''\n",
    "for c in string:\n",
    "    if c.lower() not in ['a','e','i','o','u']:\n",
    "        s = s+c\n",
    "print(s)"
   ]
  },
  {
   "cell_type": "markdown",
   "id": "b5258da1",
   "metadata": {},
   "source": [
    "### 6)Write a Python program to write a list to a file."
   ]
  },
  {
   "cell_type": "code",
   "execution_count": 8,
   "id": "131182d9",
   "metadata": {},
   "outputs": [
    {
     "name": "stdout",
     "output_type": "stream",
     "text": [
      "[5,6]\n"
     ]
    }
   ],
   "source": [
    "with open(\"test.txt\",\"a\") as file:\n",
    "    file.write(input()+'\\n')"
   ]
  },
  {
   "cell_type": "markdown",
   "id": "f4755635",
   "metadata": {},
   "source": [
    "### 7)Write a Python function to sum all the numbers in a list"
   ]
  },
  {
   "cell_type": "code",
   "execution_count": 9,
   "id": "109cbe33",
   "metadata": {},
   "outputs": [
    {
     "name": "stdout",
     "output_type": "stream",
     "text": [
      "15\n"
     ]
    }
   ],
   "source": [
    "def sum_list(l):\n",
    "    return sum(l)\n",
    "print(sum_list([1,2,3,4,5]))"
   ]
  },
  {
   "cell_type": "markdown",
   "id": "4ff25273",
   "metadata": {},
   "source": [
    "### 8) Write a Python program to print the even numbers from a given list."
   ]
  },
  {
   "cell_type": "code",
   "execution_count": 10,
   "id": "c9e7b2b0",
   "metadata": {},
   "outputs": [
    {
     "name": "stdout",
     "output_type": "stream",
     "text": [
      "[2, 4]\n"
     ]
    }
   ],
   "source": [
    "def even_nums(nums):\n",
    "    for num in nums:\n",
    "        if num%2 != 0:\n",
    "            nums.remove(num)\n",
    "    return nums\n",
    "print(even_nums([1,2,3,4,5]))"
   ]
  },
  {
   "cell_type": "markdown",
   "id": "0618ca6a",
   "metadata": {},
   "source": [
    "### 9)Write a Python class which has two methods get_String and print_String. get_String accept a string from the user and print_String print the string in upper case."
   ]
  },
  {
   "cell_type": "code",
   "execution_count": 11,
   "id": "ab222688",
   "metadata": {},
   "outputs": [],
   "source": [
    "class string:\n",
    "    def __init__(self,s):\n",
    "        self.s = s\n",
    "    def get_string(self):\n",
    "        print(self.s)\n",
    "    def print_string(self):\n",
    "        print(self.s.upper())"
   ]
  },
  {
   "cell_type": "code",
   "execution_count": 12,
   "id": "68fb6c52",
   "metadata": {},
   "outputs": [],
   "source": [
    "s = string('MoAz')"
   ]
  },
  {
   "cell_type": "code",
   "execution_count": 13,
   "id": "c43d875f",
   "metadata": {},
   "outputs": [
    {
     "name": "stdout",
     "output_type": "stream",
     "text": [
      "MoAz\n",
      "MOAZ\n"
     ]
    }
   ],
   "source": [
    "s.get_string()\n",
    "s.print_string()"
   ]
  },
  {
   "cell_type": "markdown",
   "id": "008042fd",
   "metadata": {},
   "source": [
    "### 10) Write a python class to calculate the average speed, distance travelled and the trip duration of a vehicle: car, bus, train, bike, motorcycle, plane etc. constructed by a Distance (Km) and Time(H) and a method which will compute the speed of a car."
   ]
  },
  {
   "cell_type": "code",
   "execution_count": 14,
   "id": "33ce4692",
   "metadata": {},
   "outputs": [
    {
     "name": "stdout",
     "output_type": "stream",
     "text": [
      "60 1 60.0\n"
     ]
    }
   ],
   "source": [
    "class vehicle:\n",
    "    def __init__(self,dist,time):\n",
    "        self.dist = dist\n",
    "        self.time = time\n",
    "    def speed(self):\n",
    "        return self.dist/self.time\n",
    "\n",
    "car = vehicle(60,1)\n",
    "print(car.dist,car.time,car.speed())"
   ]
  },
  {
   "cell_type": "markdown",
   "id": "7ddea6b2",
   "metadata": {},
   "source": [
    "### 11) Write a NumPy program to create a 3x3 matrix with values ranging from 2 to 10."
   ]
  },
  {
   "cell_type": "code",
   "execution_count": 15,
   "id": "1ea73e40",
   "metadata": {},
   "outputs": [],
   "source": [
    "import numpy as np"
   ]
  },
  {
   "cell_type": "code",
   "execution_count": 16,
   "id": "a84ba3d0",
   "metadata": {},
   "outputs": [
    {
     "name": "stdout",
     "output_type": "stream",
     "text": [
      "[[ 2  3  4]\n",
      " [ 5  6  7]\n",
      " [ 8  9 10]]\n"
     ]
    }
   ],
   "source": [
    "print(np.array(range(2,10+1)).reshape(3,3))"
   ]
  },
  {
   "cell_type": "markdown",
   "id": "71a459e0",
   "metadata": {},
   "source": [
    "### 12) Write a NumPy program to remove the negative values in a NumPy array with 0"
   ]
  },
  {
   "cell_type": "code",
   "execution_count": 17,
   "id": "698db78f",
   "metadata": {},
   "outputs": [
    {
     "data": {
      "text/plain": [
       "array([0, 0, 0, 0, 0, 1, 2, 3, 4])"
      ]
     },
     "execution_count": 17,
     "metadata": {},
     "output_type": "execute_result"
    }
   ],
   "source": [
    "np.array([-1,-2,-3,-4,0,1,2,3,4])*(np.array([-1,-2,-3,-4,0,1,2,3,4]) >= 0).astype(int)"
   ]
  },
  {
   "cell_type": "markdown",
   "id": "8b7ad235",
   "metadata": {},
   "source": [
    "### 13) Write a NumPy program to partition a given array in a specified position and move all the smaller elements values to the left of the partition, and the remaining values to the right, in arbitrary order."
   ]
  },
  {
   "cell_type": "code",
   "execution_count": 18,
   "id": "f1eee958",
   "metadata": {},
   "outputs": [
    {
     "data": {
      "text/plain": [
       "array([-11,  30,  20,  40,  50,  50,  60,  70])"
      ]
     },
     "execution_count": 18,
     "metadata": {},
     "output_type": "execute_result"
    }
   ],
   "source": [
    "np.partition([70,50,20,30,-11,60,50,40],4)"
   ]
  },
  {
   "cell_type": "markdown",
   "id": "5d7ca605",
   "metadata": {},
   "source": [
    "### 14) Write a program that repeatedly prompts a user for integer numbers until the user enters 'done'. Once 'done' is entered, print out the largest and smallest of the numbers. If the user enters anything other than a valid number catch it with a try/except and put out an appropriate message and ignore the number. Enter 7, 2, bob, 10, and 4 and match the output below."
   ]
  },
  {
   "cell_type": "code",
   "execution_count": 19,
   "id": "61166d72",
   "metadata": {},
   "outputs": [
    {
     "name": "stdout",
     "output_type": "stream",
     "text": [
      "7\n",
      "2\n",
      "bob\n",
      "Invalid input\n",
      "10\n",
      "4\n",
      "done\n",
      "10\n",
      "2\n",
      "[7, 2, 10, 4]\n"
     ]
    }
   ],
   "source": [
    "nums = []\n",
    "while True:\n",
    "    user_input = input()\n",
    "    try:\n",
    "        if int(user_input):\n",
    "            nums.append(int(user_input))\n",
    "    except Exception as e:\n",
    "        if user_input == 'done':\n",
    "            print(max(nums))\n",
    "            print(min(nums))\n",
    "            print(nums)\n",
    "            break\n",
    "        else:\n",
    "            print('Invalid input')\n",
    "        \n",
    "        "
   ]
  },
  {
   "cell_type": "markdown",
   "id": "c5e7f073",
   "metadata": {},
   "source": [
    "### 15) Write a program that prompts for a file name, then opens that file and reads through the file, and print the contents of the file in upper case. Use the file words.txt to produce the output below."
   ]
  },
  {
   "cell_type": "code",
   "execution_count": 20,
   "id": "b6283aef",
   "metadata": {},
   "outputs": [
    {
     "name": "stdout",
     "output_type": "stream",
     "text": [
      "RED\n",
      "\n",
      "GREEN\n",
      "\n",
      "WHITE\n",
      "\n",
      "BLACK\n",
      "\n",
      "PINK\n",
      "\n",
      "YELLOW\n",
      "\n"
     ]
    }
   ],
   "source": [
    "with open(\"abc.txt\",\"r\") as file:\n",
    "    for line in file:\n",
    "        print(line.upper())"
   ]
  },
  {
   "cell_type": "markdown",
   "id": "f4bbc41a",
   "metadata": {},
   "source": [
    "### 16) Open the file mbox-short.txt and read it line by line. When you find a line that starts with 'From ' like the following line:\n",
    "#### From stephen.marquard@uct.ac.za Sat Jan 5 09:14:16 2008 You will parse the From line using split() and print out the second word in the line (i.e. the entire address of the person who sent the message). Then print out a count at the end. Hint: make sure not to include the lines that start with 'From:'."
   ]
  },
  {
   "cell_type": "code",
   "execution_count": 30,
   "id": "17432903",
   "metadata": {},
   "outputs": [
    {
     "name": "stdout",
     "output_type": "stream",
     "text": [
      "stephen.marquard@uct.ac.za\n",
      "louis@media.berkeley.edu\n",
      "zqian@umich.edu\n",
      "rjlowe@iupui.edu\n",
      "zqian@umich.edu\n",
      "rjlowe@iupui.edu\n",
      "cwen@iupui.edu\n",
      "cwen@iupui.edu\n",
      "gsilver@umich.edu\n",
      "gsilver@umich.edu\n",
      "zqian@umich.edu\n",
      "gsilver@umich.edu\n",
      "wagnermr@iupui.edu\n",
      "zqian@umich.edu\n",
      "antranig@caret.cam.ac.uk\n",
      "gopal.ramasammycook@gmail.com\n",
      "david.horwitz@uct.ac.za\n",
      "david.horwitz@uct.ac.za\n",
      "david.horwitz@uct.ac.za\n",
      "david.horwitz@uct.ac.za\n",
      "stephen.marquard@uct.ac.za\n",
      "louis@media.berkeley.edu\n",
      "louis@media.berkeley.edu\n",
      "ray@media.berkeley.edu\n",
      "cwen@iupui.edu\n",
      "cwen@iupui.edu\n",
      "cwen@iupui.edu\n",
      "we have 28 lines\n"
     ]
    }
   ],
   "source": [
    "with open(\"mbox-short.txt\",\"r\") as file:\n",
    "    i = 1\n",
    "    for line in file:\n",
    "        try:\n",
    "            if line.split()[0]==\"From\":\n",
    "                #print(line.split())\n",
    "                print(\"\".join(line.split()[1:2]))#print('OK')\n",
    "                i+=1\n",
    "        except Exception as e:\n",
    "            continue\n",
    "    print(f\"we have {i} lines\")"
   ]
  },
  {
   "cell_type": "code",
   "execution_count": null,
   "id": "e0490d18",
   "metadata": {},
   "outputs": [],
   "source": []
  },
  {
   "cell_type": "code",
   "execution_count": null,
   "id": "6bf0d188",
   "metadata": {},
   "outputs": [],
   "source": []
  },
  {
   "cell_type": "code",
   "execution_count": null,
   "id": "706d1282",
   "metadata": {},
   "outputs": [],
   "source": []
  }
 ],
 "metadata": {
  "kernelspec": {
   "display_name": "Python 3",
   "language": "python",
   "name": "python3"
  },
  "language_info": {
   "codemirror_mode": {
    "name": "ipython",
    "version": 3
   },
   "file_extension": ".py",
   "mimetype": "text/x-python",
   "name": "python",
   "nbconvert_exporter": "python",
   "pygments_lexer": "ipython3",
   "version": "3.7.10"
  }
 },
 "nbformat": 4,
 "nbformat_minor": 5
}
