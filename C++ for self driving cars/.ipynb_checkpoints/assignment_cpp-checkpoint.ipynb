{
 "cells": [
  {
   "cell_type": "code",
   "execution_count": 1,
   "id": "5bb6c1e8-913f-43e5-aa2b-658db8c85fe8",
   "metadata": {},
   "outputs": [],
   "source": [
    "#include <iostream>\n",
    "#include <string>\n",
    "#include <cmath>\n",
    "using namespace std;"
   ]
  },
  {
   "cell_type": "markdown",
   "id": "ef3f2c1d-c653-4c0e-a7dc-25b66cd2a98c",
   "metadata": {},
   "source": [
    "#### 1) Create a C++ program that asks the user for their favorite number between 1 and 100. Then read this number from the console.Suppose the user enters number 24 you want to display the following to the console.Amazing.That's my favorite number too."
   ]
  },
  {
   "cell_type": "code",
   "execution_count": 2,
   "id": "f904cff1-86eb-4f75-9ca6-96157a963dd3",
   "metadata": {},
   "outputs": [],
   "source": [
    "int main()\n",
    "{\n",
    "    int x,fav=24;\n",
    "    repeat:\n",
    "    string y = \"Enter your favorite number between 1 and 100: \";\n",
    "\n",
    "    cout << y << endl;\n",
    "    cin >> x;\n",
    "    \n",
    "    if (x<1 || x>100)\n",
    "    {\n",
    "        cout << \"Please, Enter Number bet. (1,100)\" <<endl;\n",
    "        goto repeat;   \n",
    "    }\n",
    "    else if (x == fav)\n",
    "    {\n",
    "        cout << \"Amazing, That's my favorite number too\" <<endl; \n",
    "    }\n",
    "    else\n",
    "    {\n",
    "        cout << \"No really, 24 is my favorite number\" <<endl;\n",
    "    }\n",
    "}"
   ]
  },
  {
   "cell_type": "code",
   "execution_count": 3,
   "id": "a1542f6f-269f-4334-8ab8-8eceb06edb24",
   "metadata": {},
   "outputs": [
    {
     "name": "stdout",
     "output_type": "stream",
     "text": [
      "Enter your favorite number between 1 and 100: \n"
     ]
    },
    {
     "name": "stdin",
     "output_type": "stream",
     "text": [
      " 0\n"
     ]
    },
    {
     "name": "stdout",
     "output_type": "stream",
     "text": [
      "Please, Enter Number bet. (1,100)\n",
      "Enter your favorite number between 1 and 100: \n"
     ]
    },
    {
     "name": "stdin",
     "output_type": "stream",
     "text": [
      " 101\n"
     ]
    },
    {
     "name": "stdout",
     "output_type": "stream",
     "text": [
      "Please, Enter Number bet. (1,100)\n",
      "Enter your favorite number between 1 and 100: \n"
     ]
    },
    {
     "name": "stdin",
     "output_type": "stream",
     "text": [
      " 24\n"
     ]
    },
    {
     "name": "stdout",
     "output_type": "stream",
     "text": [
      "Amazing, That's my favorite number too\n"
     ]
    }
   ],
   "source": [
    "main();"
   ]
  },
  {
   "cell_type": "markdown",
   "id": "4b5d5482-236c-4b38-a143-00ccd06ef193",
   "metadata": {},
   "source": [
    "#### 2) Create a C++ program to Reverse an Integer"
   ]
  },
  {
   "cell_type": "code",
   "execution_count": 4,
   "id": "72c37e23-9897-4d78-9cad-e50f6969ae3e",
   "metadata": {},
   "outputs": [],
   "source": [
    "int main()\n",
    "{\n",
    "    int n;\n",
    "    int reversed_n = 0;\n",
    "    cout << \"Enter an integer Number: \";\n",
    "    cin >> n;\n",
    "    while(n!=0) \n",
    "    {\n",
    "        reversed_n = reversed_n*10 + n%10;\n",
    "        n /= 10;\n",
    "    }\n",
    "    \n",
    "    cout << \"Reversed Number: \" << reversed_n <<endl;\n",
    "}"
   ]
  },
  {
   "cell_type": "code",
   "execution_count": 5,
   "id": "62c4b8bc-132d-405e-8198-767f8b3a527b",
   "metadata": {},
   "outputs": [
    {
     "name": "stdout",
     "output_type": "stream",
     "text": [
      "Enter an integer Number: "
     ]
    },
    {
     "name": "stdin",
     "output_type": "stream",
     "text": [
      " 1234\n"
     ]
    },
    {
     "name": "stdout",
     "output_type": "stream",
     "text": [
      "Reversed Number: 4321\n"
     ]
    }
   ],
   "source": [
    "main();"
   ]
  },
  {
   "cell_type": "markdown",
   "id": "b3ed1465-7655-4ed2-968d-1659a2566db3",
   "metadata": {},
   "source": [
    "#### 3) Access Array Elements Using Pointer"
   ]
  },
  {
   "cell_type": "code",
   "execution_count": 6,
   "id": "199afd95-acdd-4dc5-80b8-de5d55e846d5",
   "metadata": {},
   "outputs": [],
   "source": [
    "int main()\n",
    "{\n",
    "    int n;\n",
    "    cout << \"Enter number of Elements: \" << endl;\n",
    "    cin >> n;\n",
    "    int x[n];\n",
    "    cout << \"Enter Elements: \";\n",
    "    for (int i=0;i<n;i++)\n",
    "    {\n",
    "        cin >> x[i];\n",
    "    }\n",
    "    //cin >> x[0] >> x[1] >> x[2] >> x[3] >> x[4];\n",
    "    cout << \"You Entered\" << endl;\n",
    "    for (int i=0;i<n;i++)\n",
    "    {\n",
    "        cout << x[i] << endl;\n",
    "    }\n",
    "}"
   ]
  },
  {
   "cell_type": "code",
   "execution_count": 7,
   "id": "da1ef1e4-5a89-4aa3-8603-781fbd918d7f",
   "metadata": {},
   "outputs": [
    {
     "name": "stdout",
     "output_type": "stream",
     "text": [
      "Enter number of Elements: \n"
     ]
    },
    {
     "name": "stdin",
     "output_type": "stream",
     "text": [
      " 5\n"
     ]
    },
    {
     "name": "stdout",
     "output_type": "stream",
     "text": [
      "Enter Elements: "
     ]
    },
    {
     "name": "stdin",
     "output_type": "stream",
     "text": [
      " 1 2 3 4 5\n"
     ]
    },
    {
     "name": "stdout",
     "output_type": "stream",
     "text": [
      "You Entered\n",
      "1\n",
      "2\n",
      "3\n",
      "4\n",
      "5\n"
     ]
    }
   ],
   "source": [
    "main();"
   ]
  },
  {
   "cell_type": "markdown",
   "id": "932d3f39-3f46-48e8-a7c8-f104a8d7ad77",
   "metadata": {},
   "source": [
    "#### 4) Display Largest Element of an array"
   ]
  },
  {
   "cell_type": "code",
   "execution_count": 10,
   "id": "31328bae-302e-498f-8abb-ad7da7ebfc49",
   "metadata": {},
   "outputs": [],
   "source": [
    "int main()\n",
    "{\n",
    "    //int x[100];\n",
    "    int n,dummy;\n",
    "    string y = \"Enter total number of elements: \";\n",
    "\n",
    "    cout << y;\n",
    "    cin >> n;\n",
    "    int x[n-1];\n",
    "    int largest_val = 0;\n",
    "    for (int i=0;i<n;i++)\n",
    "    {\n",
    "        repeat:\n",
    "        cout << \"Enter Number \"<<i+1<<\": \";\n",
    "        cin >> dummy;\n",
    "        if (dummy<1 || dummy>100)\n",
    "        {\n",
    "            cout << \"Please, Enter Number bet. (1,100)\" <<endl;\n",
    "            goto repeat;\n",
    "        }\n",
    "        else\n",
    "        {\n",
    "            x[i] = dummy;\n",
    "        }\n",
    "    }\n",
    "    for(int i=0;i<n;++i)\n",
    "    {\n",
    "       if(x[i]>largest_val)\n",
    "           largest_val = x[i];\n",
    "    }\n",
    "    cout << \"Largest element = \" << largest_val<<endl;\n",
    "}"
   ]
  },
  {
   "cell_type": "code",
   "execution_count": 11,
   "id": "766eb069-10fd-4f02-b956-545f743f3f2d",
   "metadata": {},
   "outputs": [
    {
     "name": "stdout",
     "output_type": "stream",
     "text": [
      "Enter total number of elements: "
     ]
    },
    {
     "name": "stdin",
     "output_type": "stream",
     "text": [
      " 3\n"
     ]
    },
    {
     "name": "stdout",
     "output_type": "stream",
     "text": [
      "Enter Number 1: "
     ]
    },
    {
     "name": "stdin",
     "output_type": "stream",
     "text": [
      " 0\n"
     ]
    },
    {
     "name": "stdout",
     "output_type": "stream",
     "text": [
      "Please, Enter Number bet. (1,100)\n",
      "Enter Number 1: "
     ]
    },
    {
     "name": "stdin",
     "output_type": "stream",
     "text": [
      " 101\n"
     ]
    },
    {
     "name": "stdout",
     "output_type": "stream",
     "text": [
      "Please, Enter Number bet. (1,100)\n",
      "Enter Number 1: "
     ]
    },
    {
     "name": "stdin",
     "output_type": "stream",
     "text": [
      " 1\n"
     ]
    },
    {
     "name": "stdout",
     "output_type": "stream",
     "text": [
      "Enter Number 2: "
     ]
    },
    {
     "name": "stdin",
     "output_type": "stream",
     "text": [
      " 2\n"
     ]
    },
    {
     "name": "stdout",
     "output_type": "stream",
     "text": [
      "Enter Number 3: "
     ]
    },
    {
     "name": "stdin",
     "output_type": "stream",
     "text": [
      " 3\n"
     ]
    },
    {
     "name": "stdout",
     "output_type": "stream",
     "text": [
      "Largest element = 3\n"
     ]
    }
   ],
   "source": [
    "main();"
   ]
  },
  {
   "cell_type": "markdown",
   "id": "10e731f9-3652-45b2-b11e-db306d8e2440",
   "metadata": {},
   "source": [
    "#### 5) Calculate Average of Numbers Using Arrays"
   ]
  },
  {
   "cell_type": "code",
   "execution_count": 14,
   "id": "3913342e-6543-414d-94b1-dba91439515a",
   "metadata": {},
   "outputs": [],
   "source": [
    "int main()\n",
    "{\n",
    "    //int x[100];\n",
    "    int n;\n",
    "    string y = \"Enter total number of data: \";\n",
    "    cout << y;\n",
    "    cin >> n;\n",
    "    int x[n-1];\n",
    "    int sum = 0;\n",
    "    for (int i=0;i<n;i++)\n",
    "    {\n",
    "        cout <<i+1<<'.'<<\" Enter Num: \";\n",
    "        cin >> x[i];\n",
    "        sum += x[i];\n",
    "    }\n",
    "    cout << \"Average is \"<<sum/n<<endl;\n",
    "}"
   ]
  },
  {
   "cell_type": "code",
   "execution_count": 15,
   "id": "99e4ce86-00a1-4dd2-950e-461b1b7c6875",
   "metadata": {},
   "outputs": [
    {
     "name": "stdout",
     "output_type": "stream",
     "text": [
      "Enter total number of data: "
     ]
    },
    {
     "name": "stdin",
     "output_type": "stream",
     "text": [
      " 3\n"
     ]
    },
    {
     "name": "stdout",
     "output_type": "stream",
     "text": [
      "1. Enter Num: "
     ]
    },
    {
     "name": "stdin",
     "output_type": "stream",
     "text": [
      " 1\n"
     ]
    },
    {
     "name": "stdout",
     "output_type": "stream",
     "text": [
      "2. Enter Num: "
     ]
    },
    {
     "name": "stdin",
     "output_type": "stream",
     "text": [
      " 2\n"
     ]
    },
    {
     "name": "stdout",
     "output_type": "stream",
     "text": [
      "3. Enter Num: "
     ]
    },
    {
     "name": "stdin",
     "output_type": "stream",
     "text": [
      " 3\n"
     ]
    },
    {
     "name": "stdout",
     "output_type": "stream",
     "text": [
      "Average is 2\n"
     ]
    }
   ],
   "source": [
    "main();"
   ]
  },
  {
   "cell_type": "markdown",
   "id": "411da92d-0833-4402-87b0-7a3eb4f90401",
   "metadata": {},
   "source": [
    "#### 6) Write a program and input two integers in main and pass them to default constructor of the class. Show the result of the addition of two numbers."
   ]
  },
  {
   "cell_type": "code",
   "execution_count": 16,
   "id": "d6dda579-44f7-4456-bd44-73e01691ae30",
   "metadata": {},
   "outputs": [],
   "source": [
    "class Addnums\n",
    "{\n",
    "    public:\n",
    "    int num1;\n",
    "    int num2;\n",
    "    \n",
    "    Addnums()\n",
    "    {\n",
    "        cout << \"Initializd parameters\"<<endl;\n",
    "    }\n",
    "    \n",
    "    int add2()\n",
    "    {\n",
    "        return num1+num2;\n",
    "    }\n",
    "};\n"
   ]
  },
  {
   "cell_type": "code",
   "execution_count": 17,
   "id": "7e30a052-4fa3-49b9-a86b-45a72e1dd5ba",
   "metadata": {},
   "outputs": [],
   "source": [
    "int main()\n",
    "{\n",
    "    int x,y;\n",
    "    cout << \"Enter first number: \";\n",
    "    cin >> x;\n",
    "    cout << \"Enter second number: \";\n",
    "    cin >> y;\n",
    "    Addnums add;\n",
    "    add.num1 = x;\n",
    "    add.num2 = y;\n",
    "    cout << \"The addition result: \" << add.add2() <<endl;\n",
    "}"
   ]
  },
  {
   "cell_type": "code",
   "execution_count": 18,
   "id": "2af184cc-7d34-4ef7-aaa2-fd4611c5a28e",
   "metadata": {},
   "outputs": [
    {
     "name": "stdout",
     "output_type": "stream",
     "text": [
      "Enter first number: "
     ]
    },
    {
     "name": "stdin",
     "output_type": "stream",
     "text": [
      " 1\n"
     ]
    },
    {
     "name": "stdout",
     "output_type": "stream",
     "text": [
      "Enter second number: "
     ]
    },
    {
     "name": "stdin",
     "output_type": "stream",
     "text": [
      " 2\n"
     ]
    },
    {
     "name": "stdout",
     "output_type": "stream",
     "text": [
      "Initializd parameters\n",
      "The addition result: 3\n"
     ]
    }
   ],
   "source": [
    "main();"
   ]
  },
  {
   "cell_type": "markdown",
   "id": "4abcd058-0a5e-4f94-aafd-28373784a9b5",
   "metadata": {},
   "source": [
    "#### 7) Perform addition operation on complex data using class and object.The program should ask for real and imaginary part of two complex numbers, and display the real and imaginary parts of their sum."
   ]
  },
  {
   "cell_type": "code",
   "execution_count": 19,
   "id": "71efb833-86e8-458a-ba77-42b2f7037783",
   "metadata": {},
   "outputs": [],
   "source": [
    "class complex\n",
    "{\n",
    "    public:\n",
    "    int real_num1, real_num2;\n",
    "    int imag_num1, imag_num2;\n",
    "    \n",
    "    int Addreal()\n",
    "    {\n",
    "        return real_num1+real_num2;\n",
    "    }\n",
    "    \n",
    "    int Addimag()\n",
    "    {\n",
    "        return imag_num1+imag_num2;\n",
    "    }\n",
    "};"
   ]
  },
  {
   "cell_type": "code",
   "execution_count": 20,
   "id": "b9d46a47-b39b-4d7e-8438-0b65901458d4",
   "metadata": {},
   "outputs": [],
   "source": [
    "int main()\n",
    "{\n",
    "    //int real1,real2,imag1,imag2;\n",
    "    complex c;\n",
    "    cout << \"Enter first number\" << endl;\n",
    "    cout << \"Enter real part: \" ;//<< endl;\n",
    "    cin >> c.real_num1; //real1;\n",
    "    //c.real_num1 = real1;\n",
    "    cout << \"Enter imag part: \" ;//<< endl;\n",
    "    cin >> c.imag_num1; //imag1;\n",
    "    //c.imag_num1 = imag1;\n",
    "    cout << \"Enter second number\" << endl;\n",
    "    cout << \"Enter real part: \" ;//<< endl;\n",
    "    cin >> c.real_num2;//real2;\n",
    "    //c.real_num2 = real2;\n",
    "    cout << \"Enter imag part: \" ;//<< endl;\n",
    "    cin >> c.imag_num2;//imag2;\n",
    "    //c.imag_num2 = imag2;\n",
    "    cout <<\"Sum of real part: \"<<c.Addreal()<<endl;\n",
    "    cout <<\"Sum of imag part: \"<<c.Addimag()<<endl;\n",
    "}"
   ]
  },
  {
   "cell_type": "code",
   "execution_count": 21,
   "id": "542f8011-1468-4ffb-8c50-9ddcd743f70d",
   "metadata": {},
   "outputs": [
    {
     "name": "stdout",
     "output_type": "stream",
     "text": [
      "Enter first number\n",
      "Enter real part: "
     ]
    },
    {
     "name": "stdin",
     "output_type": "stream",
     "text": [
      " 22\n"
     ]
    },
    {
     "name": "stdout",
     "output_type": "stream",
     "text": [
      "Enter imag part: "
     ]
    },
    {
     "name": "stdin",
     "output_type": "stream",
     "text": [
      " 33\n"
     ]
    },
    {
     "name": "stdout",
     "output_type": "stream",
     "text": [
      "Enter second number\n",
      "Enter real part: "
     ]
    },
    {
     "name": "stdin",
     "output_type": "stream",
     "text": [
      " 34\n"
     ]
    },
    {
     "name": "stdout",
     "output_type": "stream",
     "text": [
      "Enter imag part: "
     ]
    },
    {
     "name": "stdin",
     "output_type": "stream",
     "text": [
      " 45\n"
     ]
    },
    {
     "name": "stdout",
     "output_type": "stream",
     "text": [
      "Sum of real part: 56\n",
      "Sum of imag part: 78\n"
     ]
    }
   ],
   "source": [
    "main();"
   ]
  },
  {
   "cell_type": "code",
   "execution_count": null,
   "id": "c4f2e270-46fe-42ef-92cf-56c1f050aaf1",
   "metadata": {},
   "outputs": [],
   "source": []
  },
  {
   "cell_type": "code",
   "execution_count": null,
   "id": "f4fc846d-699a-4c5d-a543-0239544272e5",
   "metadata": {},
   "outputs": [],
   "source": []
  },
  {
   "cell_type": "code",
   "execution_count": null,
   "id": "f3555c36-5f19-438b-944b-adc17e6ad15f",
   "metadata": {},
   "outputs": [],
   "source": []
  },
  {
   "cell_type": "code",
   "execution_count": null,
   "id": "3871af09-8919-41f8-b367-dfcd430590b9",
   "metadata": {},
   "outputs": [],
   "source": []
  },
  {
   "cell_type": "code",
   "execution_count": null,
   "id": "1ef7f7e1-0ef8-476a-8265-d8ea597fb7f6",
   "metadata": {},
   "outputs": [],
   "source": []
  },
  {
   "cell_type": "code",
   "execution_count": null,
   "id": "94deb3dc-1dc0-407f-9ea0-d7fbe2969576",
   "metadata": {},
   "outputs": [],
   "source": []
  },
  {
   "cell_type": "code",
   "execution_count": null,
   "id": "abeaa62c-8b29-41e6-9edc-248014c5400c",
   "metadata": {},
   "outputs": [],
   "source": []
  }
 ],
 "metadata": {
  "kernelspec": {
   "display_name": "C++17",
   "language": "C++17",
   "name": "xcpp17"
  },
  "language_info": {
   "codemirror_mode": "text/x-c++src",
   "file_extension": ".cpp",
   "mimetype": "text/x-c++src",
   "name": "c++",
   "version": "17"
  }
 },
 "nbformat": 4,
 "nbformat_minor": 5
}
